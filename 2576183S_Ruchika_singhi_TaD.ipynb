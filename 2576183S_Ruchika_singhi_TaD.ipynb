{
  "nbformat": 4,
  "nbformat_minor": 0,
  "metadata": {
    "colab": {
      "name": "2576183S-Ruchika singhi-TaD_Coursework_2021_May_June.ipynb",
      "provenance": [],
      "collapsed_sections": []
    },
    "kernelspec": {
      "name": "python3",
      "display_name": "Python 3"
    }
  },
  "cells": [
    {
      "cell_type": "markdown",
      "metadata": {
        "id": "2zWJALd7CDhB"
      },
      "source": [
        "https://colab.research.google.com/drive/1SsD7Z2Te39DyGYyJd517eYL2JnLmmDG3?usp=sharing"
      ]
    },
    {
      "cell_type": "markdown",
      "metadata": {
        "id": "2gv2i9fNDvrg"
      },
      "source": [
        "## Post Sentiment Classification Task"
      ]
    },
    {
      "cell_type": "code",
      "metadata": {
        "id": "ZG9BpbQt3-ko"
      },
      "source": [
        "import pandas as pd\n",
        "import numpy as np\n",
        "\n",
        "train_data = pd.read_json(\"https://raw.githubusercontent.com/rpsoft/tad_course/main/reddit_sentiment_train.json\")\n",
        "\n",
        "validation_data = pd.read_json(\"https://raw.githubusercontent.com/rpsoft/tad_course/main/reddit_sentiment_validation.json\")\n",
        "\n",
        "test_data = pd.read_json(\"https://raw.githubusercontent.com/rpsoft/tad_course/main/reddit_sentiment_test.json\")"
      ],
      "execution_count": 3,
      "outputs": []
    },
    {
      "cell_type": "code",
      "metadata": {
        "id": "KcrDVAFDZgTt"
      },
      "source": [
        "#Importing libraries \n",
        "import spacy\n",
        "import nltk\n",
        "import matplotlib.pyplot as plt\n",
        "\n",
        "from sklearn.feature_extraction.text import CountVectorizer, TfidfVectorizer\n",
        "from sklearn.dummy import DummyClassifier\n",
        "from sklearn.linear_model import LogisticRegression\n",
        "from sklearn import svm, tree\n",
        "from sklearn.naive_bayes import BernoulliNB\n",
        "from sklearn.ensemble import RandomForestClassifier\n",
        "from sklearn.pipeline import Pipeline\n",
        "from sklearn.model_selection import GridSearchCV\n",
        "\n",
        "from sklearn.metrics import classification_report, confusion_matrix ,precision_score, recall_score, accuracy_score, fbeta_score, SCORERS\n",
        "\n",
        "from sklearn.pipeline import FeatureUnion, Pipeline\n",
        "from sklearn.impute import SimpleImputer\n",
        "from sklearn.preprocessing import StandardScaler, OneHotEncoder\n",
        "from sklearn.compose import ColumnTransformer\n",
        "\n"
      ],
      "execution_count": 4,
      "outputs": []
    },
    {
      "cell_type": "code",
      "metadata": {
        "id": "YLLgW0AKcHXj",
        "colab": {
          "base_uri": "https://localhost:8080/",
          "height": 564
        },
        "outputId": "cd8b590f-d7f2-4200-8dc7-f5f119e50b4a"
      },
      "source": [
        "train_data.head()"
      ],
      "execution_count": 5,
      "outputs": [
        {
          "output_type": "execute_result",
          "data": {
            "text/html": [
              "<div>\n",
              "<style scoped>\n",
              "    .dataframe tbody tr th:only-of-type {\n",
              "        vertical-align: middle;\n",
              "    }\n",
              "\n",
              "    .dataframe tbody tr th {\n",
              "        vertical-align: top;\n",
              "    }\n",
              "\n",
              "    .dataframe thead th {\n",
              "        text-align: right;\n",
              "    }\n",
              "</style>\n",
              "<table border=\"1\" class=\"dataframe\">\n",
              "  <thead>\n",
              "    <tr style=\"text-align: right;\">\n",
              "      <th></th>\n",
              "      <th>subreddit</th>\n",
              "      <th>title</th>\n",
              "      <th>id</th>\n",
              "      <th>url</th>\n",
              "      <th>author</th>\n",
              "      <th>body</th>\n",
              "      <th>majority_type</th>\n",
              "      <th>is_first_post</th>\n",
              "      <th>post_depth</th>\n",
              "      <th>in_reply_to</th>\n",
              "      <th>sentiment.polarity</th>\n",
              "      <th>sentiment.subjectivity</th>\n",
              "    </tr>\n",
              "  </thead>\n",
              "  <tbody>\n",
              "    <tr>\n",
              "      <th>0</th>\n",
              "      <td>relationships</td>\n",
              "      <td>My Friend/Crush [22/F] acting weird after I [2...</td>\n",
              "      <td>t1_cy7f317</td>\n",
              "      <td>https://www.reddit.com/r/relationships/comment...</td>\n",
              "      <td>Melodrama_</td>\n",
              "      <td>It's a sad realization, isn't it?</td>\n",
              "      <td></td>\n",
              "      <td>False</td>\n",
              "      <td>2</td>\n",
              "      <td>t1_cy7erc5</td>\n",
              "      <td>negative</td>\n",
              "      <td>1.000000</td>\n",
              "    </tr>\n",
              "    <tr>\n",
              "      <th>1</th>\n",
              "      <td>relationships</td>\n",
              "      <td>My Friend/Crush [22/F] acting weird after I [2...</td>\n",
              "      <td>t1_cy7hlyf</td>\n",
              "      <td>https://www.reddit.com/r/relationships/comment...</td>\n",
              "      <td>Melodrama_</td>\n",
              "      <td>I told her a couple of minutes ago that I didn...</td>\n",
              "      <td>elaboration</td>\n",
              "      <td>False</td>\n",
              "      <td>2</td>\n",
              "      <td>t1_cy7erc5</td>\n",
              "      <td>neutral</td>\n",
              "      <td>0.483631</td>\n",
              "    </tr>\n",
              "    <tr>\n",
              "      <th>2</th>\n",
              "      <td>relationships</td>\n",
              "      <td>My Friend/Crush [22/F] acting weird after I [2...</td>\n",
              "      <td>t1_cy7etrr</td>\n",
              "      <td>https://www.reddit.com/r/relationships/comment...</td>\n",
              "      <td>TreatYoSelves</td>\n",
              "      <td>Leeches don't make good friends.</td>\n",
              "      <td>answer</td>\n",
              "      <td>False</td>\n",
              "      <td>1</td>\n",
              "      <td>t3_3xshx9</td>\n",
              "      <td>positive</td>\n",
              "      <td>0.600000</td>\n",
              "    </tr>\n",
              "    <tr>\n",
              "      <th>3</th>\n",
              "      <td>relationships</td>\n",
              "      <td>My Friend/Crush [22/F] acting weird after I [2...</td>\n",
              "      <td>t1_cy7hhpq</td>\n",
              "      <td>https://www.reddit.com/r/relationships/comment...</td>\n",
              "      <td>Melodrama_</td>\n",
              "      <td>I just ended it. Apparently she wasn't a good ...</td>\n",
              "      <td>elaboration</td>\n",
              "      <td>False</td>\n",
              "      <td>2</td>\n",
              "      <td>t1_cy7etrr</td>\n",
              "      <td>positive</td>\n",
              "      <td>0.475000</td>\n",
              "    </tr>\n",
              "    <tr>\n",
              "      <th>4</th>\n",
              "      <td>relationships</td>\n",
              "      <td>My Friend/Crush [22/F] acting weird after I [2...</td>\n",
              "      <td>t1_cy7q0qg</td>\n",
              "      <td>https://www.reddit.com/r/relationships/comment...</td>\n",
              "      <td>TreatYoSelves</td>\n",
              "      <td>Good for you!  Make sure you stick with it.</td>\n",
              "      <td>appreciation</td>\n",
              "      <td>False</td>\n",
              "      <td>3</td>\n",
              "      <td>t1_cy7hhpq</td>\n",
              "      <td>positive</td>\n",
              "      <td>0.744444</td>\n",
              "    </tr>\n",
              "  </tbody>\n",
              "</table>\n",
              "</div>"
            ],
            "text/plain": [
              "       subreddit  ... sentiment.subjectivity\n",
              "0  relationships  ...               1.000000\n",
              "1  relationships  ...               0.483631\n",
              "2  relationships  ...               0.600000\n",
              "3  relationships  ...               0.475000\n",
              "4  relationships  ...               0.744444\n",
              "\n",
              "[5 rows x 12 columns]"
            ]
          },
          "metadata": {
            "tags": []
          },
          "execution_count": 5
        }
      ]
    },
    {
      "cell_type": "code",
      "metadata": {
        "id": "nthWiypvCerg",
        "colab": {
          "base_uri": "https://localhost:8080/",
          "height": 285
        },
        "outputId": "9cbcdcda-9662-483b-87b5-c0e7c5c1e7fa"
      },
      "source": [
        "train_data['sentiment.polarity'].hist()"
      ],
      "execution_count": 6,
      "outputs": [
        {
          "output_type": "execute_result",
          "data": {
            "text/plain": [
              "<matplotlib.axes._subplots.AxesSubplot at 0x7fcc540cf1d0>"
            ]
          },
          "metadata": {
            "tags": []
          },
          "execution_count": 6
        },
        {
          "output_type": "display_data",
          "data": {
            "image/png": "[encoded data removed]",
            "text/plain": [
              "<Figure size 432x288 with 1 Axes>"
            ]
          },
          "metadata": {
            "tags": [],
            "needs_background": "light"
          }
        }
      ]
    },
    {
      "cell_type": "code",
      "metadata": {
        "colab": {
          "base_uri": "https://localhost:8080/",
          "height": 282
        },
        "id": "XmP1GikYxC-X",
        "outputId": "b1e87139-4020-485e-f8e2-b9b41b671b7d"
      },
      "source": [
        "test_data['sentiment.polarity'].hist()"
      ],
      "execution_count": 7,
      "outputs": [
        {
          "output_type": "execute_result",
          "data": {
            "text/plain": [
              "<matplotlib.axes._subplots.AxesSubplot at 0x7fcc53fcf490>"
            ]
          },
          "metadata": {
            "tags": []
          },
          "execution_count": 7
        },
        {
          "output_type": "display_data",
          "data": {
            "image/png": "[encoded data removed]",
            "text/plain": [
              "<Figure size 432x288 with 1 Axes>"
            ]
          },
          "metadata": {
            "tags": [],
            "needs_background": "light"
          }
        }
      ]
    },
    {
      "cell_type": "code",
      "metadata": {
        "colab": {
          "base_uri": "https://localhost:8080/",
          "height": 282
        },
        "id": "5JKgsCURxJiU",
        "outputId": "5fe2fed7-470c-4a3f-d7f3-edba1f0ade83"
      },
      "source": [
        "validation_data['sentiment.polarity'].hist()"
      ],
      "execution_count": 8,
      "outputs": [
        {
          "output_type": "execute_result",
          "data": {
            "text/plain": [
              "<matplotlib.axes._subplots.AxesSubplot at 0x7fcc53fc59d0>"
            ]
          },
          "metadata": {
            "tags": []
          },
          "execution_count": 8
        },
        {
          "output_type": "display_data",
          "data": {
            "image/png": "[encoded data removed]",
            "text/plain": [
              "<Figure size 432x288 with 1 Axes>"
            ]
          },
          "metadata": {
            "tags": [],
            "needs_background": "light"
          }
        }
      ]
    },
    {
      "cell_type": "code",
      "metadata": {
        "id": "NNpBOWs-Dap8",
        "colab": {
          "base_uri": "https://localhost:8080/"
        },
        "outputId": "5cbe3d66-359b-4069-a25e-205060da1f63"
      },
      "source": [
        "\n",
        "\n",
        "number_neutral_train = sum(train_data['sentiment.polarity'].__eq__('neutral'))\n",
        "number_neutral_validation = sum(validation_data['sentiment.polarity'].__eq__('neutral'))\n",
        "number_neutral_test = sum(test_data['sentiment.polarity'].__eq__('neutral'))\n",
        "\n",
        "number_very_negative_train = sum(train_data['sentiment.polarity'].__eq__('very negative'))\n",
        "number_very_negative_validation = sum(validation_data['sentiment.polarity'].__eq__('very negative'))\n",
        "number_very_negative_test = sum(test_data['sentiment.polarity'].__eq__('very negative'))\n",
        "\n",
        "number_positive_train = sum(train_data['sentiment.polarity'].__eq__('positive'))\n",
        "number_positive_validation = sum(validation_data['sentiment.polarity'].__eq__('positive'))\n",
        "number_positive_test = sum(test_data['sentiment.polarity'].__eq__('positive'))\n",
        "\n",
        "print('----Training set----')\n",
        "print('Total posts - {:d}'.format(len(train_data)))\n",
        "print('Fraction of neutral posts -  %0.0f%% ' % (100*number_neutral_train/len(train_data)))\n",
        "print('Fraction of very negative posts -  %0.0f%% ' % (100*number_very_negative_train/len(train_data)))\n",
        "print('Fraction of positive posts -  %0.0f%% ' % (100*number_positive_train/len(train_data)))\n",
        "\n",
        "print('----Validation set----')\n",
        "print('Total posts - {:d}'.format(len(validation_data)))\n",
        "print('Fraction of neutral posts -  %0.0f%% ' % (100*number_neutral_validation/len(validation_data)))\n",
        "print('Fraction of very negative posts -  %0.0f%% ' % (100*number_very_negative_validation/len(validation_data)))\n",
        "print('Fraction of positive posts -  %0.0f%% ' % (100*number_positive_validation/len(validation_data)))\n",
        "\n",
        "\n",
        "print('----Test set----')\n",
        "print('Total posts - {:d}'.format(len(test_data)))\n",
        "print('Fraction of neutral posts -  %0.0f%% ' % (100*number_neutral_test/len(test_data)))\n",
        "print('Fraction of very negative posts -  %0.0f%% ' % (100*number_very_negative_test/len(test_data)))\n",
        "print('Fraction of positive posts -  %0.0f%% ' % (100*number_positive_test/len(test_data)))\n"
      ],
      "execution_count": 9,
      "outputs": [
        {
          "output_type": "stream",
          "text": [
            "----Training set----\n",
            "Total posts - 12138\n",
            "Fraction of neutral posts -  63% \n",
            "Fraction of very negative posts -  1% \n",
            "Fraction of positive posts -  27% \n",
            "----Validation set----\n",
            "Total posts - 3109\n",
            "Fraction of neutral posts -  63% \n",
            "Fraction of very negative posts -  0% \n",
            "Fraction of positive posts -  27% \n",
            "----Test set----\n",
            "Total posts - 4016\n",
            "Fraction of neutral posts -  63% \n",
            "Fraction of very negative posts -  1% \n",
            "Fraction of positive posts -  27% \n"
          ],
          "name": "stdout"
        }
      ]
    },
    {
      "cell_type": "code",
      "metadata": {
        "id": "1WOrOzF3IpGh"
      },
      "source": [
        "train_labels = train_data['sentiment.polarity']\n",
        "validation_labels = validation_data['sentiment.polarity']\n",
        "test_labels = test_data['sentiment.polarity']"
      ],
      "execution_count": 10,
      "outputs": []
    },
    {
      "cell_type": "code",
      "metadata": {
        "id": "I--CBpBGaQES"
      },
      "source": [
        "\n",
        "one_hot_vectorizer = CountVectorizer(binary=True)\n",
        "\n",
        "train_features = one_hot_vectorizer.fit_transform(train_data['body'])\n",
        "validation_features = one_hot_vectorizer.transform(validation_data['body'])\n",
        "test_features = one_hot_vectorizer.transform(test_data['body'])"
      ],
      "execution_count": 11,
      "outputs": []
    },
    {
      "cell_type": "code",
      "metadata": {
        "id": "_QBRVOZ1qil1"
      },
      "source": [
        "ngram_vectorizer = TfidfVectorizer()\n",
        "\n",
        "train_features_tf_idf = ngram_vectorizer.fit_transform(train_data['body'])\n",
        "test_features_tf_idf = ngram_vectorizer.transform(test_data['body'])\n",
        "validation_features_tf_idf = ngram_vectorizer.transform(validation_data['body'])"
      ],
      "execution_count": 12,
      "outputs": []
    },
    {
      "cell_type": "code",
      "metadata": {
        "id": "4PQL6USifiuJ"
      },
      "source": [
        "\n",
        "#metrics = {}\n",
        "def evaluation_summary(description, predictions, true_labels):\n",
        "  values = []\n",
        "  accuracy = accuracy_score(predictions, true_labels)\n",
        "  values.append('%.3f'%(accuracy))\n",
        "  precision = precision_score(predictions, true_labels, average='macro')\n",
        "  values.append('%.3f'%(precision))\n",
        "  recall = recall_score(predictions, true_labels, average='macro')\n",
        "  values.append('%.3f'%(recall))\n",
        "  macro_f1 = fbeta_score(predictions, true_labels, 1, average = 'macro') \n",
        "  values.append('%.3f'%(macro_f1))\n",
        "  weighted_f1 = fbeta_score(predictions, true_labels, 1, average = 'weighted') \n",
        "  values.append('%.3f'%(weighted_f1))\n",
        " \n",
        "  metrics[description] = values\n",
        "\n",
        "  print(\"Classifier '%s' has Acc=%0.3f P=%0.3f R=%0.3f F1=%0.3f\" % (description,accuracy,precision,recall,macro_f1))\n",
        "  print(classification_report(predictions, true_labels, digits=3, zero_division = 0))\n",
        "  print(\"----------------------------\")\n"
      ],
      "execution_count": 13,
      "outputs": []
    },
    {
      "cell_type": "code",
      "metadata": {
        "id": "Q6uZ2m56nlm4"
      },
      "source": [
        "# a)\n",
        "dummy_mf = DummyClassifier(strategy='most_frequent')\n",
        "dummy_mf.fit(train_features, train_labels)\n",
        "predicted_test_labels_a = dummy_mf.predict(test_features)\n",
        "predicted_train_labels_a = dummy_mf.predict(train_features)\n",
        "\n",
        "# b)\n",
        "dummy_prior = DummyClassifier(strategy='stratified')\n",
        "dummy_prior.fit(train_features, train_labels)\n",
        "predicted_test_labels_b = dummy_prior.predict(test_features)\n",
        "predicted_train_labels_b = dummy_prior.predict(train_features)\n",
        "# c)\n",
        "logistic_regression = LogisticRegression(solver='saga', max_iter = 1000)\n",
        "logistic_regression.fit(train_features, train_labels)\n",
        "predicted_test_labels_c = logistic_regression.predict(test_features)\n",
        "predicted_train_labels_c = logistic_regression.predict(train_features)\n",
        "# d)\n",
        "lr_model = LogisticRegression(solver='saga',max_iter = 1000)\n",
        "lr_model.fit(train_features_tf_idf, train_labels)\n",
        "predicted_test_labels_d = lr_model.predict(test_features_tf_idf)\n",
        "predicted_train_labels_d = lr_model.predict(train_features_tf_idf)\n",
        "# e)\n",
        "svc_model = svm.SVC(kernel = 'rbf')\n",
        "svc_model.fit(train_features, train_labels)\n",
        "predicted_test_labels_e = svc_model.predict(test_features)\n",
        "predicted_train_labels_e = svc_model.predict(train_features)\n",
        "# f) \n",
        "\n",
        "dtc = tree.DecisionTreeClassifier(random_state = 0, max_depth= 2)\n",
        "dtc.fit(train_features_tf_idf, train_labels)\n",
        "predicted_test_labels_f = dtc.predict(test_features_tf_idf)\n",
        "predicted_train_labels_f = dtc.predict(train_features_tf_idf)\n",
        "\n",
        "# bnb = BernoulliNB()\n",
        "# bnb.fit(train_features, train_labels)\n",
        "# predicted_test_labels_f = bnb.predict(test_features)\n",
        "# #OR\n",
        "# rfc = RandomForestClassifier(n_estimators= 200, max_depth = 3, random_state = 0)\n",
        "# rfc.fit(train_features_tf_idf, train_labels)\n",
        "# predicted_test_labels_g = rfc.predict(test_features_tf_idf)"
      ],
      "execution_count": 30,
      "outputs": []
    },
    {
      "cell_type": "code",
      "metadata": {
        "colab": {
          "base_uri": "https://localhost:8080/"
        },
        "id": "f725CI749lYL",
        "outputId": "529e86c9-598b-4ff8-86c5-5aac1d17d9d8"
      },
      "source": [
        "#Evaluation Summary for Training Set\n",
        "metrics = {}\n",
        "evaluation_summary('Dummy Classifier (most_frequent)',predicted_train_labels_a, train_labels)\n",
        "evaluation_summary('Dummy Classifier(stratified)', predicted_train_labels_b, train_labels)\n",
        "evaluation_summary('LogisticRegression (One-hot vectorization)', predicted_train_labels_c, train_labels)\n",
        "evaluation_summary('LogisticRegression (TF-IDF vectorization)', predicted_train_labels_d, train_labels)\n",
        "evaluation_summary('SVC Classifier',  predicted_train_labels_e, train_labels)\n",
        "evaluation_summary('Decision Tree classifier', predicted_train_labels_f, train_labels)"
      ],
      "execution_count": 31,
      "outputs": [
        {
          "output_type": "stream",
          "text": [
            "/usr/local/lib/python3.7/dist-packages/sklearn/metrics/_classification.py:1272: UndefinedMetricWarning: Recall is ill-defined and being set to 0.0 in labels with no true samples. Use `zero_division` parameter to control this behavior.\n",
            "  _warn_prf(average, modifier, msg_start, len(result))\n"
          ],
          "name": "stderr"
        },
        {
          "output_type": "stream",
          "text": [
            "Classifier 'Dummy Classifier (most_frequent)' has Acc=0.633 P=0.200 R=0.127 F1=0.155\n",
            "               precision    recall  f1-score   support\n",
            "\n",
            "     negative      0.000     0.000     0.000         0\n",
            "      neutral      1.000     0.633     0.775     12138\n",
            "     positive      0.000     0.000     0.000         0\n",
            "very negative      0.000     0.000     0.000         0\n",
            "very positive      0.000     0.000     0.000         0\n",
            "\n",
            "     accuracy                          0.633     12138\n",
            "    macro avg      0.200     0.127     0.155     12138\n",
            " weighted avg      1.000     0.633     0.775     12138\n",
            "\n",
            "----------------------------\n",
            "Classifier 'Dummy Classifier(stratified)' has Acc=0.472 P=0.198 R=0.198 F1=0.198\n",
            "               precision    recall  f1-score   support\n",
            "\n",
            "     negative      0.068     0.070     0.069       853\n",
            "      neutral      0.632     0.628     0.630      7722\n",
            "     positive      0.251     0.255     0.253      3183\n",
            "very negative      0.021     0.017     0.019       115\n",
            "very positive      0.020     0.019     0.019       265\n",
            "\n",
            "     accuracy                          0.472     12138\n",
            "    macro avg      0.198     0.198     0.198     12138\n",
            " weighted avg      0.473     0.472     0.473     12138\n",
            "\n",
            "----------------------------\n",
            "Classifier 'LogisticRegression (One-hot vectorization)' has Acc=0.964 P=0.848 R=0.982 F1=0.904\n",
            "               precision    recall  f1-score   support\n",
            "\n",
            "     negative      0.860     0.984     0.918       767\n",
            "      neutral      0.995     0.955     0.975      8005\n",
            "     positive      0.940     0.980     0.959      3098\n",
            "very negative      0.639     1.000     0.780        62\n",
            "very positive      0.806     0.990     0.889       206\n",
            "\n",
            "     accuracy                          0.964     12138\n",
            "    macro avg      0.848     0.982     0.904     12138\n",
            " weighted avg      0.968     0.964     0.965     12138\n",
            "\n",
            "----------------------------\n",
            "Classifier 'LogisticRegression (TF-IDF vectorization)' has Acc=0.817 P=0.409 R=0.916 F1=0.461\n",
            "               precision    recall  f1-score   support\n",
            "\n",
            "     negative      0.182     0.914     0.304       175\n",
            "      neutral      0.979     0.795     0.877      9458\n",
            "     positive      0.679     0.894     0.772      2455\n",
            "very negative      0.021     1.000     0.040         2\n",
            "very positive      0.186     0.979     0.312        48\n",
            "\n",
            "     accuracy                          0.817     12138\n",
            "    macro avg      0.409     0.916     0.461     12138\n",
            " weighted avg      0.903     0.817     0.845     12138\n",
            "\n",
            "----------------------------\n",
            "Classifier 'SVC Classifier' has Acc=0.862 P=0.425 R=0.751 F1=0.457\n",
            "               precision    recall  f1-score   support\n",
            "\n",
            "     negative      0.289     0.992     0.448       256\n",
            "      neutral      0.988     0.840     0.908      9027\n",
            "     positive      0.811     0.921     0.862      2846\n",
            "very negative      0.000     0.000     0.000         0\n",
            "very positive      0.036     1.000     0.069         9\n",
            "\n",
            "     accuracy                          0.862     12138\n",
            "    macro avg      0.425     0.751     0.457     12138\n",
            " weighted avg      0.931     0.862     0.887     12138\n",
            "\n",
            "----------------------------\n",
            "Classifier 'Decision Tree classifier' has Acc=0.669 P=0.233 R=0.285 F1=0.218\n",
            "               precision    recall  f1-score   support\n",
            "\n",
            "     negative      0.000     0.000     0.000         0\n",
            "      neutral      0.978     0.662     0.790     11342\n",
            "     positive      0.188     0.761     0.301       796\n",
            "very negative      0.000     0.000     0.000         0\n",
            "very positive      0.000     0.000     0.000         0\n",
            "\n",
            "     accuracy                          0.669     12138\n",
            "    macro avg      0.233     0.285     0.218     12138\n",
            " weighted avg      0.926     0.669     0.758     12138\n",
            "\n",
            "----------------------------\n"
          ],
          "name": "stdout"
        }
      ]
    },
    {
      "cell_type": "code",
      "metadata": {
        "colab": {
          "base_uri": "https://localhost:8080/",
          "height": 166
        },
        "id": "a67w-7in_F0u",
        "outputId": "bda55771-aa49-48d3-8c0e-3cd741907afb"
      },
      "source": [
        "#Evaluation Summary for Training Set\n",
        "\n",
        "df = pd.DataFrame.from_dict(metrics, orient = 'index', columns = ['Accuracy','Precision', 'Recall', 'F1(macro)' , 'F1(weighted)'])\n",
        "def maximum_value_in_column(column):    \n",
        "    highlight = 'background-color: pink;'\n",
        "    default = ''\n",
        "    maximum_in_column = column.max()\n",
        "    return [highlight if v == maximum_in_column else default for v in column]\n",
        "df.style.apply(maximum_value_in_column, subset = ['Accuracy','F1(weighted)'], axis=0)"
      ],
      "execution_count": 32,
      "outputs": [
        {
          "output_type": "execute_result",
          "data": {
            "text/html": [
              "<style  type=\"text/css\" >\n",
              "#T_a2333d84_c55b_11eb_b9c4_0242ac1c0002row2_col0,#T_a2333d84_c55b_11eb_b9c4_0242ac1c0002row2_col4{\n",
              "            background-color:  pink;\n",
              "        }</style><table id=\"T_a2333d84_c55b_11eb_b9c4_0242ac1c0002\" ><thead>    <tr>        <th class=\"blank level0\" ></th>        <th class=\"col_heading level0 col0\" >Accuracy</th>        <th class=\"col_heading level0 col1\" >Precision</th>        <th class=\"col_heading level0 col2\" >Recall</th>        <th class=\"col_heading level0 col3\" >F1(macro)</th>        <th class=\"col_heading level0 col4\" >F1(weighted)</th>    </tr></thead><tbody>\n",
              "                <tr>\n",
              "                        <th id=\"T_a2333d84_c55b_11eb_b9c4_0242ac1c0002level0_row0\" class=\"row_heading level0 row0\" >Dummy Classifier (most_frequent)</th>\n",
              "                        <td id=\"T_a2333d84_c55b_11eb_b9c4_0242ac1c0002row0_col0\" class=\"data row0 col0\" >0.633</td>\n",
              "                        <td id=\"T_a2333d84_c55b_11eb_b9c4_0242ac1c0002row0_col1\" class=\"data row0 col1\" >0.200</td>\n",
              "                        <td id=\"T_a2333d84_c55b_11eb_b9c4_0242ac1c0002row0_col2\" class=\"data row0 col2\" >0.127</td>\n",
              "                        <td id=\"T_a2333d84_c55b_11eb_b9c4_0242ac1c0002row0_col3\" class=\"data row0 col3\" >0.155</td>\n",
              "                        <td id=\"T_a2333d84_c55b_11eb_b9c4_0242ac1c0002row0_col4\" class=\"data row0 col4\" >0.775</td>\n",
              "            </tr>\n",
              "            <tr>\n",
              "                        <th id=\"T_a2333d84_c55b_11eb_b9c4_0242ac1c0002level0_row1\" class=\"row_heading level0 row1\" >Dummy Classifier(stratified)</th>\n",
              "                        <td id=\"T_a2333d84_c55b_11eb_b9c4_0242ac1c0002row1_col0\" class=\"data row1 col0\" >0.472</td>\n",
              "                        <td id=\"T_a2333d84_c55b_11eb_b9c4_0242ac1c0002row1_col1\" class=\"data row1 col1\" >0.198</td>\n",
              "                        <td id=\"T_a2333d84_c55b_11eb_b9c4_0242ac1c0002row1_col2\" class=\"data row1 col2\" >0.198</td>\n",
              "                        <td id=\"T_a2333d84_c55b_11eb_b9c4_0242ac1c0002row1_col3\" class=\"data row1 col3\" >0.198</td>\n",
              "                        <td id=\"T_a2333d84_c55b_11eb_b9c4_0242ac1c0002row1_col4\" class=\"data row1 col4\" >0.473</td>\n",
              "            </tr>\n",
              "            <tr>\n",
              "                        <th id=\"T_a2333d84_c55b_11eb_b9c4_0242ac1c0002level0_row2\" class=\"row_heading level0 row2\" >LogisticRegression (One-hot vectorization)</th>\n",
              "                        <td id=\"T_a2333d84_c55b_11eb_b9c4_0242ac1c0002row2_col0\" class=\"data row2 col0\" >0.964</td>\n",
              "                        <td id=\"T_a2333d84_c55b_11eb_b9c4_0242ac1c0002row2_col1\" class=\"data row2 col1\" >0.848</td>\n",
              "                        <td id=\"T_a2333d84_c55b_11eb_b9c4_0242ac1c0002row2_col2\" class=\"data row2 col2\" >0.982</td>\n",
              "                        <td id=\"T_a2333d84_c55b_11eb_b9c4_0242ac1c0002row2_col3\" class=\"data row2 col3\" >0.904</td>\n",
              "                        <td id=\"T_a2333d84_c55b_11eb_b9c4_0242ac1c0002row2_col4\" class=\"data row2 col4\" >0.965</td>\n",
              "            </tr>\n",
              "            <tr>\n",
              "                        <th id=\"T_a2333d84_c55b_11eb_b9c4_0242ac1c0002level0_row3\" class=\"row_heading level0 row3\" >LogisticRegression (TF-IDF vectorization)</th>\n",
              "                        <td id=\"T_a2333d84_c55b_11eb_b9c4_0242ac1c0002row3_col0\" class=\"data row3 col0\" >0.817</td>\n",
              "                        <td id=\"T_a2333d84_c55b_11eb_b9c4_0242ac1c0002row3_col1\" class=\"data row3 col1\" >0.409</td>\n",
              "                        <td id=\"T_a2333d84_c55b_11eb_b9c4_0242ac1c0002row3_col2\" class=\"data row3 col2\" >0.916</td>\n",
              "                        <td id=\"T_a2333d84_c55b_11eb_b9c4_0242ac1c0002row3_col3\" class=\"data row3 col3\" >0.461</td>\n",
              "                        <td id=\"T_a2333d84_c55b_11eb_b9c4_0242ac1c0002row3_col4\" class=\"data row3 col4\" >0.845</td>\n",
              "            </tr>\n",
              "            <tr>\n",
              "                        <th id=\"T_a2333d84_c55b_11eb_b9c4_0242ac1c0002level0_row4\" class=\"row_heading level0 row4\" >SVC Classifier</th>\n",
              "                        <td id=\"T_a2333d84_c55b_11eb_b9c4_0242ac1c0002row4_col0\" class=\"data row4 col0\" >0.862</td>\n",
              "                        <td id=\"T_a2333d84_c55b_11eb_b9c4_0242ac1c0002row4_col1\" class=\"data row4 col1\" >0.425</td>\n",
              "                        <td id=\"T_a2333d84_c55b_11eb_b9c4_0242ac1c0002row4_col2\" class=\"data row4 col2\" >0.751</td>\n",
              "                        <td id=\"T_a2333d84_c55b_11eb_b9c4_0242ac1c0002row4_col3\" class=\"data row4 col3\" >0.457</td>\n",
              "                        <td id=\"T_a2333d84_c55b_11eb_b9c4_0242ac1c0002row4_col4\" class=\"data row4 col4\" >0.887</td>\n",
              "            </tr>\n",
              "            <tr>\n",
              "                        <th id=\"T_a2333d84_c55b_11eb_b9c4_0242ac1c0002level0_row5\" class=\"row_heading level0 row5\" >Decision Tree classifier</th>\n",
              "                        <td id=\"T_a2333d84_c55b_11eb_b9c4_0242ac1c0002row5_col0\" class=\"data row5 col0\" >0.669</td>\n",
              "                        <td id=\"T_a2333d84_c55b_11eb_b9c4_0242ac1c0002row5_col1\" class=\"data row5 col1\" >0.233</td>\n",
              "                        <td id=\"T_a2333d84_c55b_11eb_b9c4_0242ac1c0002row5_col2\" class=\"data row5 col2\" >0.285</td>\n",
              "                        <td id=\"T_a2333d84_c55b_11eb_b9c4_0242ac1c0002row5_col3\" class=\"data row5 col3\" >0.218</td>\n",
              "                        <td id=\"T_a2333d84_c55b_11eb_b9c4_0242ac1c0002row5_col4\" class=\"data row5 col4\" >0.758</td>\n",
              "            </tr>\n",
              "    </tbody></table>"
            ],
            "text/plain": [
              "<pandas.io.formats.style.Styler at 0x7fcc528d5e50>"
            ]
          },
          "metadata": {
            "tags": []
          },
          "execution_count": 32
        }
      ]
    },
    {
      "cell_type": "code",
      "metadata": {
        "id": "LPAtqBUWs9O0",
        "colab": {
          "base_uri": "https://localhost:8080/"
        },
        "outputId": "0b244308-0451-4c4a-a8c3-878443fdfad9"
      },
      "source": [
        "#Evaluation Summary for Tests Set\n",
        "metrics ={}\n",
        "evaluation_summary('Dummy Classifier (most_frequent)',predicted_test_labels_a, test_labels)\n",
        "evaluation_summary('Dummy Classifier(stratified)', predicted_test_labels_b, test_labels)\n",
        "evaluation_summary('LogisticRegression (One-hot vectorization)', predicted_test_labels_c, test_labels)\n",
        "evaluation_summary('LogisticRegression (TF-IDF vectorization)', predicted_test_labels_d, test_labels)\n",
        "evaluation_summary('SVC Classifier',  predicted_test_labels_e, test_labels)\n",
        "# evaluation_summary('BernoulliNB', predicted_test_labels_f, test_labels)\n",
        "# evaluation_summary('RandomForestClassifier', predicted_test_labels_g, test_labels)\n",
        "evaluation_summary('Decision Tree classifier', predicted_test_labels_f, test_labels)"
      ],
      "execution_count": 33,
      "outputs": [
        {
          "output_type": "stream",
          "text": [
            "Classifier 'Dummy Classifier (most_frequent)' has Acc=0.626 P=0.200 R=0.125 F1=0.154\n",
            "               precision    recall  f1-score   support\n",
            "\n",
            "     negative      0.000     0.000     0.000         0\n",
            "      neutral      1.000     0.626     0.770      4016\n",
            "     positive      0.000     0.000     0.000         0\n",
            "very negative      0.000     0.000     0.000         0\n",
            "very positive      0.000     0.000     0.000         0\n",
            "\n",
            "     accuracy                          0.626      4016\n",
            "    macro avg      0.200     0.125     0.154      4016\n",
            " weighted avg      1.000     0.626     0.770      4016\n",
            "\n",
            "----------------------------\n"
          ],
          "name": "stdout"
        },
        {
          "output_type": "stream",
          "text": [
            "/usr/local/lib/python3.7/dist-packages/sklearn/metrics/_classification.py:1272: UndefinedMetricWarning: Recall is ill-defined and being set to 0.0 in labels with no true samples. Use `zero_division` parameter to control this behavior.\n",
            "  _warn_prf(average, modifier, msg_start, len(result))\n"
          ],
          "name": "stderr"
        },
        {
          "output_type": "stream",
          "text": [
            "Classifier 'Dummy Classifier(stratified)' has Acc=0.479 P=0.203 R=0.203 F1=0.203\n",
            "               precision    recall  f1-score   support\n",
            "\n",
            "     negative      0.071     0.075     0.073       265\n",
            "      neutral      0.630     0.629     0.629      2518\n",
            "     positive      0.290     0.284     0.287      1125\n",
            "very negative      0.000     0.000     0.000        29\n",
            "very positive      0.023     0.025     0.024        79\n",
            "\n",
            "     accuracy                          0.479      4016\n",
            "    macro avg      0.203     0.203     0.203      4016\n",
            " weighted avg      0.481     0.479     0.480      4016\n",
            "\n",
            "----------------------------\n",
            "Classifier 'LogisticRegression (One-hot vectorization)' has Acc=0.745 P=0.437 R=0.641 F1=0.488\n",
            "               precision    recall  f1-score   support\n",
            "\n",
            "     negative      0.238     0.472     0.316       142\n",
            "      neutral      0.877     0.773     0.822      2852\n",
            "     positive      0.625     0.710     0.665       970\n",
            "very negative      0.188     0.750     0.300         8\n",
            "very positive      0.256     0.500     0.338        44\n",
            "\n",
            "     accuracy                          0.745      4016\n",
            "    macro avg      0.437     0.641     0.488      4016\n",
            " weighted avg      0.786     0.745     0.760      4016\n",
            "\n",
            "----------------------------\n",
            "Classifier 'LogisticRegression (TF-IDF vectorization)' has Acc=0.739 P=0.328 R=0.583 F1=0.353\n",
            "               precision    recall  f1-score   support\n",
            "\n",
            "     negative      0.092     0.619     0.160        42\n",
            "      neutral      0.945     0.736     0.827      3227\n",
            "     positive      0.508     0.760     0.609       737\n",
            "very negative      0.000     0.000     0.000         0\n",
            "very positive      0.093     0.800     0.167        10\n",
            "\n",
            "     accuracy                          0.739      4016\n",
            "    macro avg      0.328     0.583     0.353      4016\n",
            " weighted avg      0.854     0.739     0.779      4016\n",
            "\n",
            "----------------------------\n",
            "Classifier 'SVC Classifier' has Acc=0.728 P=0.288 R=0.458 F1=0.286\n",
            "               precision    recall  f1-score   support\n",
            "\n",
            "     negative      0.014     0.800     0.028         5\n",
            "      neutral      0.957     0.720     0.822      3343\n",
            "     positive      0.466     0.769     0.581       668\n",
            "very negative      0.000     0.000     0.000         0\n",
            "very positive      0.000     0.000     0.000         0\n",
            "\n",
            "     accuracy                          0.728      4016\n",
            "    macro avg      0.288     0.458     0.286      4016\n",
            " weighted avg      0.874     0.728     0.781      4016\n",
            "\n",
            "----------------------------\n",
            "Classifier 'Decision Tree classifier' has Acc=0.663 P=0.233 R=0.282 F1=0.218\n",
            "               precision    recall  f1-score   support\n",
            "\n",
            "     negative      0.000     0.000     0.000         0\n",
            "      neutral      0.976     0.657     0.785      3737\n",
            "     positive      0.191     0.753     0.304       279\n",
            "very negative      0.000     0.000     0.000         0\n",
            "very positive      0.000     0.000     0.000         0\n",
            "\n",
            "     accuracy                          0.663      4016\n",
            "    macro avg      0.233     0.282     0.218      4016\n",
            " weighted avg      0.922     0.663     0.752      4016\n",
            "\n",
            "----------------------------\n"
          ],
          "name": "stdout"
        }
      ]
    },
    {
      "cell_type": "code",
      "metadata": {
        "id": "m5ukbjiafV9W",
        "colab": {
          "base_uri": "https://localhost:8080/",
          "height": 166
        },
        "outputId": "35799bd2-aaa2-4852-a5ec-ebe433eec762"
      },
      "source": [
        "#Evaluation Summary for Tests Set\n",
        "\n",
        "df = pd.DataFrame.from_dict(metrics, orient = 'index', columns = ['Accuracy','Precision', 'Recall', 'F1(macro)' , 'F1(weighted)'])\n",
        "def maximum_value_in_column(column):    \n",
        "    highlight = 'background-color: yellow;'\n",
        "    default = ''\n",
        "    maximum_in_column = column.max()\n",
        "    return [highlight if v == maximum_in_column else default for v in column]\n",
        "df.style.apply(maximum_value_in_column, subset = ['Accuracy','F1(weighted)'], axis=0)\n",
        "\n"
      ],
      "execution_count": 34,
      "outputs": [
        {
          "output_type": "execute_result",
          "data": {
            "text/html": [
              "<style  type=\"text/css\" >\n",
              "#T_a2eb5220_c55b_11eb_b9c4_0242ac1c0002row2_col0,#T_a2eb5220_c55b_11eb_b9c4_0242ac1c0002row4_col4{\n",
              "            background-color:  yellow;\n",
              "        }</style><table id=\"T_a2eb5220_c55b_11eb_b9c4_0242ac1c0002\" ><thead>    <tr>        <th class=\"blank level0\" ></th>        <th class=\"col_heading level0 col0\" >Accuracy</th>        <th class=\"col_heading level0 col1\" >Precision</th>        <th class=\"col_heading level0 col2\" >Recall</th>        <th class=\"col_heading level0 col3\" >F1(macro)</th>        <th class=\"col_heading level0 col4\" >F1(weighted)</th>    </tr></thead><tbody>\n",
              "                <tr>\n",
              "                        <th id=\"T_a2eb5220_c55b_11eb_b9c4_0242ac1c0002level0_row0\" class=\"row_heading level0 row0\" >Dummy Classifier (most_frequent)</th>\n",
              "                        <td id=\"T_a2eb5220_c55b_11eb_b9c4_0242ac1c0002row0_col0\" class=\"data row0 col0\" >0.626</td>\n",
              "                        <td id=\"T_a2eb5220_c55b_11eb_b9c4_0242ac1c0002row0_col1\" class=\"data row0 col1\" >0.200</td>\n",
              "                        <td id=\"T_a2eb5220_c55b_11eb_b9c4_0242ac1c0002row0_col2\" class=\"data row0 col2\" >0.125</td>\n",
              "                        <td id=\"T_a2eb5220_c55b_11eb_b9c4_0242ac1c0002row0_col3\" class=\"data row0 col3\" >0.154</td>\n",
              "                        <td id=\"T_a2eb5220_c55b_11eb_b9c4_0242ac1c0002row0_col4\" class=\"data row0 col4\" >0.770</td>\n",
              "            </tr>\n",
              "            <tr>\n",
              "                        <th id=\"T_a2eb5220_c55b_11eb_b9c4_0242ac1c0002level0_row1\" class=\"row_heading level0 row1\" >Dummy Classifier(stratified)</th>\n",
              "                        <td id=\"T_a2eb5220_c55b_11eb_b9c4_0242ac1c0002row1_col0\" class=\"data row1 col0\" >0.479</td>\n",
              "                        <td id=\"T_a2eb5220_c55b_11eb_b9c4_0242ac1c0002row1_col1\" class=\"data row1 col1\" >0.203</td>\n",
              "                        <td id=\"T_a2eb5220_c55b_11eb_b9c4_0242ac1c0002row1_col2\" class=\"data row1 col2\" >0.203</td>\n",
              "                        <td id=\"T_a2eb5220_c55b_11eb_b9c4_0242ac1c0002row1_col3\" class=\"data row1 col3\" >0.203</td>\n",
              "                        <td id=\"T_a2eb5220_c55b_11eb_b9c4_0242ac1c0002row1_col4\" class=\"data row1 col4\" >0.480</td>\n",
              "            </tr>\n",
              "            <tr>\n",
              "                        <th id=\"T_a2eb5220_c55b_11eb_b9c4_0242ac1c0002level0_row2\" class=\"row_heading level0 row2\" >LogisticRegression (One-hot vectorization)</th>\n",
              "                        <td id=\"T_a2eb5220_c55b_11eb_b9c4_0242ac1c0002row2_col0\" class=\"data row2 col0\" >0.745</td>\n",
              "                        <td id=\"T_a2eb5220_c55b_11eb_b9c4_0242ac1c0002row2_col1\" class=\"data row2 col1\" >0.437</td>\n",
              "                        <td id=\"T_a2eb5220_c55b_11eb_b9c4_0242ac1c0002row2_col2\" class=\"data row2 col2\" >0.641</td>\n",
              "                        <td id=\"T_a2eb5220_c55b_11eb_b9c4_0242ac1c0002row2_col3\" class=\"data row2 col3\" >0.488</td>\n",
              "                        <td id=\"T_a2eb5220_c55b_11eb_b9c4_0242ac1c0002row2_col4\" class=\"data row2 col4\" >0.760</td>\n",
              "            </tr>\n",
              "            <tr>\n",
              "                        <th id=\"T_a2eb5220_c55b_11eb_b9c4_0242ac1c0002level0_row3\" class=\"row_heading level0 row3\" >LogisticRegression (TF-IDF vectorization)</th>\n",
              "                        <td id=\"T_a2eb5220_c55b_11eb_b9c4_0242ac1c0002row3_col0\" class=\"data row3 col0\" >0.739</td>\n",
              "                        <td id=\"T_a2eb5220_c55b_11eb_b9c4_0242ac1c0002row3_col1\" class=\"data row3 col1\" >0.328</td>\n",
              "                        <td id=\"T_a2eb5220_c55b_11eb_b9c4_0242ac1c0002row3_col2\" class=\"data row3 col2\" >0.583</td>\n",
              "                        <td id=\"T_a2eb5220_c55b_11eb_b9c4_0242ac1c0002row3_col3\" class=\"data row3 col3\" >0.353</td>\n",
              "                        <td id=\"T_a2eb5220_c55b_11eb_b9c4_0242ac1c0002row3_col4\" class=\"data row3 col4\" >0.779</td>\n",
              "            </tr>\n",
              "            <tr>\n",
              "                        <th id=\"T_a2eb5220_c55b_11eb_b9c4_0242ac1c0002level0_row4\" class=\"row_heading level0 row4\" >SVC Classifier</th>\n",
              "                        <td id=\"T_a2eb5220_c55b_11eb_b9c4_0242ac1c0002row4_col0\" class=\"data row4 col0\" >0.728</td>\n",
              "                        <td id=\"T_a2eb5220_c55b_11eb_b9c4_0242ac1c0002row4_col1\" class=\"data row4 col1\" >0.288</td>\n",
              "                        <td id=\"T_a2eb5220_c55b_11eb_b9c4_0242ac1c0002row4_col2\" class=\"data row4 col2\" >0.458</td>\n",
              "                        <td id=\"T_a2eb5220_c55b_11eb_b9c4_0242ac1c0002row4_col3\" class=\"data row4 col3\" >0.286</td>\n",
              "                        <td id=\"T_a2eb5220_c55b_11eb_b9c4_0242ac1c0002row4_col4\" class=\"data row4 col4\" >0.781</td>\n",
              "            </tr>\n",
              "            <tr>\n",
              "                        <th id=\"T_a2eb5220_c55b_11eb_b9c4_0242ac1c0002level0_row5\" class=\"row_heading level0 row5\" >Decision Tree classifier</th>\n",
              "                        <td id=\"T_a2eb5220_c55b_11eb_b9c4_0242ac1c0002row5_col0\" class=\"data row5 col0\" >0.663</td>\n",
              "                        <td id=\"T_a2eb5220_c55b_11eb_b9c4_0242ac1c0002row5_col1\" class=\"data row5 col1\" >0.233</td>\n",
              "                        <td id=\"T_a2eb5220_c55b_11eb_b9c4_0242ac1c0002row5_col2\" class=\"data row5 col2\" >0.282</td>\n",
              "                        <td id=\"T_a2eb5220_c55b_11eb_b9c4_0242ac1c0002row5_col3\" class=\"data row5 col3\" >0.218</td>\n",
              "                        <td id=\"T_a2eb5220_c55b_11eb_b9c4_0242ac1c0002row5_col4\" class=\"data row5 col4\" >0.752</td>\n",
              "            </tr>\n",
              "    </tbody></table>"
            ],
            "text/plain": [
              "<pandas.io.formats.style.Styler at 0x7fcc528d35d0>"
            ]
          },
          "metadata": {
            "tags": []
          },
          "execution_count": 34
        }
      ]
    },
    {
      "cell_type": "code",
      "metadata": {
        "id": "6TAO1vvpjpmY",
        "colab": {
          "base_uri": "https://localhost:8080/",
          "height": 295
        },
        "outputId": "758424bd-18d9-49d9-e362-619673d5d228"
      },
      "source": [
        "#svc classifier\n",
        "cr = classification_report(predicted_test_labels_e, test_labels, digits=3, zero_division = 0, output_dict = True)\n",
        "x = ['negative','neutral','positive', 'very negative', 'very positive']\n",
        "y = [cr['negative']['f1-score'],cr['neutral']['f1-score'],cr['positive']['f1-score'],cr['very negative']['f1-score'],cr['very positive']['f1-score']]\n",
        "plt.bar(x,y, width = 0.5)\n",
        "plt.xlabel(\"Sentiment Class Labels\")\n",
        "plt.ylabel(\"F1 Score\")\n",
        "plt.title(\"F1 score for each class - SVC Classifier(Max F1(weighted) = 78.1%)\")\n",
        "plt.show()"
      ],
      "execution_count": 25,
      "outputs": [
        {
          "output_type": "display_data",
          "data": {
            "image/png": "[encoded data removed]",
            "text/plain": [
              "<Figure size 432x288 with 1 Axes>"
            ]
          },
          "metadata": {
            "tags": [],
            "needs_background": "light"
          }
        }
      ]
    },
    {
      "cell_type": "markdown",
      "metadata": {
        "id": "XmL9qdOieIL5"
      },
      "source": [
        "**Improve the effectiveness of the LogisticRegression with TF-IDF vectorization from Q1.**"
      ]
    },
    {
      "cell_type": "code",
      "metadata": {
        "id": "Ye3nPNJP3sIs"
      },
      "source": [
        "from sklearn.base import BaseEstimator, TransformerMixin\n",
        "\n",
        "class ItemSelector(BaseEstimator, TransformerMixin):\n",
        "    \"\"\"For data grouped by feature, select subset of data at a provided key.    \"\"\"\n",
        "\n",
        "    def __init__(self, key):\n",
        "        self.key = key\n",
        "\n",
        "    def fit(self, x, y=None):\n",
        "        return self\n",
        "\n",
        "    def transform(self, data_dict):\n",
        "        return data_dict[self.key]"
      ],
      "execution_count": 37,
      "outputs": []
    },
    {
      "cell_type": "code",
      "metadata": {
        "colab": {
          "base_uri": "https://localhost:8080/"
        },
        "id": "sibr5fdMXFH5",
        "outputId": "e058d767-d003-4ffc-fd36-d7311d68bc33"
      },
      "source": [
        "prediction_pipeline = Pipeline([\n",
        "              ('selector', ItemSelector(key='body')),                 \n",
        "              ('tfid', TfidfVectorizer()),\n",
        "              ('logreg', LogisticRegression(solver='saga', max_iter=9000))\n",
        "              ])\n",
        "prediction_pipeline.fit(train_data, train_labels)\n",
        "evaluation_summary(\"LR\", prediction_pipeline.predict(validation_data), validation_labels) "
      ],
      "execution_count": 39,
      "outputs": [
        {
          "output_type": "stream",
          "text": [
            "Classifier 'LR' has Acc=0.731 P=0.320 R=0.564 F1=0.344\n",
            "               precision    recall  f1-score   support\n",
            "\n",
            "     negative      0.084     0.581     0.146        31\n",
            "      neutral      0.938     0.732     0.823      2512\n",
            "     positive      0.482     0.731     0.581       557\n",
            "very negative      0.000     0.000     0.000         0\n",
            "very positive      0.096     0.778     0.171         9\n",
            "\n",
            "     accuracy                          0.731      3109\n",
            "    macro avg      0.320     0.564     0.344      3109\n",
            " weighted avg      0.846     0.731     0.771      3109\n",
            "\n",
            "----------------------------\n"
          ],
          "name": "stdout"
        },
        {
          "output_type": "stream",
          "text": [
            "/usr/local/lib/python3.7/dist-packages/sklearn/metrics/_classification.py:1272: UndefinedMetricWarning: Recall is ill-defined and being set to 0.0 in labels with no true samples. Use `zero_division` parameter to control this behavior.\n",
            "  _warn_prf(average, modifier, msg_start, len(result))\n"
          ],
          "name": "stderr"
        }
      ]
    },
    {
      "cell_type": "code",
      "metadata": {
        "colab": {
          "base_uri": "https://localhost:8080/"
        },
        "id": "wPnhFuhtlvtm",
        "outputId": "ed4b240c-6878-4333-cc2e-6b4e828ec3bd"
      },
      "source": [
        "\n",
        "\n",
        "from sklearn.model_selection import GridSearchCV\n",
        "params = {\n",
        "   'tfid__sublinear_tf': (True, False), \n",
        "}\n",
        "grid_search = GridSearchCV(prediction_pipeline, param_grid=params, n_jobs=1, verbose=1, scoring='accuracy', cv=2)\n",
        "grid_search.fit(train_data, train_labels)\n",
        "\n",
        "print(\"Best score: %0.3f\" % grid_search.best_score_)\n",
        "print(\"Best parameters set:\")\n",
        "best_parameters = grid_search.best_estimator_.get_params()\n",
        "for param_name in sorted(params.keys()):\n",
        "  print(\"\\t%s: %r\" % (param_name, best_parameters[param_name]))\n",
        "\n",
        "evaluation_summary(\"LR\", grid_search.predict(validation_data), validation_labels) "
      ],
      "execution_count": 40,
      "outputs": [
        {
          "output_type": "stream",
          "text": [
            "Fitting 2 folds for each of 2 candidates, totalling 4 fits\n"
          ],
          "name": "stdout"
        },
        {
          "output_type": "stream",
          "text": [
            "[Parallel(n_jobs=1)]: Using backend SequentialBackend with 1 concurrent workers.\n",
            "[Parallel(n_jobs=1)]: Done   4 out of   4 | elapsed:    3.8s finished\n"
          ],
          "name": "stderr"
        },
        {
          "output_type": "stream",
          "text": [
            "Best score: 0.718\n",
            "Best parameters set:\n",
            "\ttfid__sublinear_tf: True\n",
            "Classifier 'LR' has Acc=0.731 P=0.322 R=0.576 F1=0.348\n",
            "               precision    recall  f1-score   support\n",
            "\n",
            "     negative      0.093     0.645     0.163        31\n",
            "      neutral      0.936     0.734     0.823      2500\n",
            "     positive      0.488     0.724     0.583       569\n",
            "very negative      0.000     0.000     0.000         0\n",
            "very positive      0.096     0.778     0.171         9\n",
            "\n",
            "     accuracy                          0.731      3109\n",
            "    macro avg      0.322     0.576     0.348      3109\n",
            " weighted avg      0.843     0.731     0.770      3109\n",
            "\n",
            "----------------------------\n"
          ],
          "name": "stdout"
        },
        {
          "output_type": "stream",
          "text": [
            "/usr/local/lib/python3.7/dist-packages/sklearn/metrics/_classification.py:1272: UndefinedMetricWarning: Recall is ill-defined and being set to 0.0 in labels with no true samples. Use `zero_division` parameter to control this behavior.\n",
            "  _warn_prf(average, modifier, msg_start, len(result))\n"
          ],
          "name": "stderr"
        }
      ]
    },
    {
      "cell_type": "code",
      "metadata": {
        "colab": {
          "base_uri": "https://localhost:8080/"
        },
        "id": "C1jE1bBEqP_V",
        "outputId": "e44ee58c-d74a-4c6e-de7e-7ce78e399071"
      },
      "source": [
        "params = {\n",
        "   'tfid__max_features': (10,100,1000,10000,20000),}\n",
        "\n",
        "grid_search = GridSearchCV(prediction_pipeline, param_grid=params, n_jobs=1, verbose=1, scoring='accuracy', cv=2)\n",
        "grid_search.fit(train_data, train_labels)\n",
        "\n",
        "print(\"Best score: %0.3f\" % grid_search.best_score_)\n",
        "print(\"Best parameters set:\")\n",
        "best_parameters = grid_search.best_estimator_.get_params()\n",
        "for param_name in sorted(params.keys()):\n",
        "  print(\"\\t%s: %r\" % (param_name, best_parameters[param_name]))\n",
        "\n",
        "evaluation_summary(\"LR\", grid_search.predict(validation_data), validation_labels) "
      ],
      "execution_count": 41,
      "outputs": [
        {
          "output_type": "stream",
          "text": [
            "Fitting 2 folds for each of 5 candidates, totalling 10 fits\n"
          ],
          "name": "stdout"
        },
        {
          "output_type": "stream",
          "text": [
            "[Parallel(n_jobs=1)]: Using backend SequentialBackend with 1 concurrent workers.\n",
            "[Parallel(n_jobs=1)]: Done  10 out of  10 | elapsed:    8.2s finished\n"
          ],
          "name": "stderr"
        },
        {
          "output_type": "stream",
          "text": [
            "Best score: 0.725\n",
            "Best parameters set:\n",
            "\ttfid__max_features: 1000\n",
            "Classifier 'LR' has Acc=0.735 P=0.348 R=0.565 F1=0.383\n",
            "               precision    recall  f1-score   support\n",
            "\n",
            "     negative      0.107     0.548     0.179        42\n",
            "      neutral      0.922     0.743     0.823      2432\n",
            "     positive      0.520     0.710     0.600       618\n",
            "very negative      0.000     0.000     0.000         0\n",
            "very positive      0.192     0.824     0.311        17\n",
            "\n",
            "     accuracy                          0.735      3109\n",
            "    macro avg      0.348     0.565     0.383      3109\n",
            " weighted avg      0.827     0.735     0.767      3109\n",
            "\n",
            "----------------------------\n"
          ],
          "name": "stdout"
        },
        {
          "output_type": "stream",
          "text": [
            "/usr/local/lib/python3.7/dist-packages/sklearn/metrics/_classification.py:1272: UndefinedMetricWarning: Recall is ill-defined and being set to 0.0 in labels with no true samples. Use `zero_division` parameter to control this behavior.\n",
            "  _warn_prf(average, modifier, msg_start, len(result))\n"
          ],
          "name": "stderr"
        }
      ]
    },
    {
      "cell_type": "code",
      "metadata": {
        "colab": {
          "base_uri": "https://localhost:8080/"
        },
        "id": "FE41sJAuDx-q",
        "outputId": "0342eac4-251d-4259-999a-59ce12ba2a77"
      },
      "source": [
        "params = {\n",
        "   'tfid__max_features': (10,100,1000,10000,20000),\n",
        "   'tfid__sublinear_tf': (True, False)}\n",
        "\n",
        "grid_search = GridSearchCV(prediction_pipeline, param_grid=params, n_jobs=1, verbose=1, scoring='accuracy', cv=2)\n",
        "grid_search.fit(train_data, train_labels)\n",
        "\n",
        "print(\"Best score: %0.3f\" % grid_search.best_score_)\n",
        "print(\"Best parameters set:\")\n",
        "best_parameters = grid_search.best_estimator_.get_params()\n",
        "for param_name in sorted(params.keys()):\n",
        "  print(\"\\t%s: %r\" % (param_name, best_parameters[param_name]))\n",
        "\n",
        "evaluation_summary(\"LR\", grid_search.predict(validation_data), validation_labels) "
      ],
      "execution_count": 42,
      "outputs": [
        {
          "output_type": "stream",
          "text": [
            "Fitting 2 folds for each of 10 candidates, totalling 20 fits\n"
          ],
          "name": "stdout"
        },
        {
          "output_type": "stream",
          "text": [
            "[Parallel(n_jobs=1)]: Using backend SequentialBackend with 1 concurrent workers.\n",
            "[Parallel(n_jobs=1)]: Done  20 out of  20 | elapsed:   17.0s finished\n"
          ],
          "name": "stderr"
        },
        {
          "output_type": "stream",
          "text": [
            "Best score: 0.726\n",
            "Best parameters set:\n",
            "\ttfid__max_features: 1000\n",
            "\ttfid__sublinear_tf: True\n",
            "Classifier 'LR' has Acc=0.743 P=0.358 R=0.576 F1=0.396\n",
            "               precision    recall  f1-score   support\n",
            "\n",
            "     negative      0.112     0.558     0.186        43\n",
            "      neutral      0.929     0.749     0.829      2431\n",
            "     positive      0.533     0.731     0.616       616\n",
            "very negative      0.000     0.000     0.000         0\n",
            "very positive      0.219     0.842     0.348        19\n",
            "\n",
            "     accuracy                          0.743      3109\n",
            "    macro avg      0.358     0.576     0.396      3109\n",
            " weighted avg      0.834     0.743     0.775      3109\n",
            "\n",
            "----------------------------\n"
          ],
          "name": "stdout"
        },
        {
          "output_type": "stream",
          "text": [
            "/usr/local/lib/python3.7/dist-packages/sklearn/metrics/_classification.py:1272: UndefinedMetricWarning: Recall is ill-defined and being set to 0.0 in labels with no true samples. Use `zero_division` parameter to control this behavior.\n",
            "  _warn_prf(average, modifier, msg_start, len(result))\n"
          ],
          "name": "stderr"
        }
      ]
    },
    {
      "cell_type": "code",
      "metadata": {
        "colab": {
          "base_uri": "https://localhost:8080/"
        },
        "id": "jprFOruuttBR",
        "outputId": "7c261338-6308-4ca0-82c5-d20ae95a8299"
      },
      "source": [
        "params = {\n",
        "   'logreg__C': (1e-3,1e-2,1e-1,10,100,1000,10000,1e5)\n",
        "}\n",
        "grid_search = GridSearchCV(prediction_pipeline, param_grid=params, n_jobs=1, verbose=1, scoring='accuracy', cv=2)\n",
        "grid_search.fit(train_data, train_labels)\n",
        "\n",
        "print(\"Best score: %0.3f\" % grid_search.best_score_)\n",
        "print(\"Best parameters set:\")\n",
        "best_parameters = grid_search.best_estimator_.get_params()\n",
        "for param_name in sorted(params.keys()):\n",
        "  print(\"\\t%s: %r\" % (param_name, best_parameters[param_name]))\n",
        "\n",
        "evaluation_summary(\"LR\", grid_search.predict(validation_data), validation_labels) "
      ],
      "execution_count": 43,
      "outputs": [
        {
          "output_type": "stream",
          "text": [
            "Fitting 2 folds for each of 8 candidates, totalling 16 fits\n"
          ],
          "name": "stdout"
        },
        {
          "output_type": "stream",
          "text": [
            "[Parallel(n_jobs=1)]: Using backend SequentialBackend with 1 concurrent workers.\n",
            "[Parallel(n_jobs=1)]: Done  16 out of  16 | elapsed:  1.2min finished\n"
          ],
          "name": "stderr"
        },
        {
          "output_type": "stream",
          "text": [
            "Best score: 0.730\n",
            "Best parameters set:\n",
            "\tlogreg__C: 10\n",
            "Classifier 'LR' has Acc=0.750 P=0.409 R=0.656 F1=0.461\n",
            "               precision    recall  f1-score   support\n",
            "\n",
            "     negative      0.251     0.600     0.354        90\n",
            "      neutral      0.906     0.765     0.830      2321\n",
            "     positive      0.573     0.722     0.639       670\n",
            "very negative      0.067     0.500     0.118         2\n",
            "very positive      0.247     0.692     0.364        26\n",
            "\n",
            "     accuracy                          0.750      3109\n",
            "    macro avg      0.409     0.656     0.461      3109\n",
            " weighted avg      0.809     0.750     0.770      3109\n",
            "\n",
            "----------------------------\n"
          ],
          "name": "stdout"
        }
      ]
    },
    {
      "cell_type": "code",
      "metadata": {
        "colab": {
          "base_uri": "https://localhost:8080/"
        },
        "id": "jobqfuv3EsAl",
        "outputId": "2d4b8bc8-52c1-4ab8-9f39-5972a3c441c2"
      },
      "source": [
        "params = {\n",
        "   'logreg__C': (10,100,1000),\n",
        "   'tfid__max_features': (10,100,1000,10000,20000),\n",
        "   'tfid__sublinear_tf': (True, False),\n",
        "   }\n",
        "\n",
        "\n",
        "grid_search = GridSearchCV(prediction_pipeline, param_grid=params, n_jobs=1, verbose=1, scoring='accuracy', cv=2)\n",
        "grid_search.fit(train_data, train_labels)\n",
        "\n",
        "print(\"Best score: %0.3f\" % grid_search.best_score_)\n",
        "print(\"Best parameters set:\")\n",
        "best_parameters = grid_search.best_estimator_.get_params()\n",
        "for param_name in sorted(params.keys()):\n",
        "  print(\"\\t%s: %r\" % (param_name, best_parameters[param_name]))\n",
        "\n",
        "evaluation_summary(\"LR\", grid_search.predict(validation_data), validation_labels) "
      ],
      "execution_count": 24,
      "outputs": [
        {
          "output_type": "stream",
          "text": [
            "Fitting 2 folds for each of 30 candidates, totalling 60 fits\n"
          ],
          "name": "stdout"
        },
        {
          "output_type": "stream",
          "text": [
            "[Parallel(n_jobs=1)]: Using backend SequentialBackend with 1 concurrent workers.\n",
            "[Parallel(n_jobs=1)]: Done  60 out of  60 | elapsed:  2.5min finished\n"
          ],
          "name": "stderr"
        },
        {
          "output_type": "stream",
          "text": [
            "Best score: 0.732\n",
            "Best parameters set:\n",
            "\tlogreg__C: 10\n",
            "\ttfid__max_features: 10000\n",
            "\ttfid__sublinear_tf: True\n",
            "Classifier 'LR' has Acc=0.749 P=0.428 R=0.625 F1=0.480\n",
            "               precision    recall  f1-score   support\n",
            "\n",
            "     negative      0.302     0.586     0.399       111\n",
            "      neutral      0.889     0.775     0.828      2251\n",
            "     positive      0.594     0.699     0.642       718\n",
            "very negative      0.133     0.400     0.200         5\n",
            "very positive      0.219     0.667     0.330        24\n",
            "\n",
            "     accuracy                          0.749      3109\n",
            "    macro avg      0.428     0.625     0.480      3109\n",
            " weighted avg      0.794     0.749     0.765      3109\n",
            "\n",
            "----------------------------\n"
          ],
          "name": "stdout"
        }
      ]
    },
    {
      "cell_type": "code",
      "metadata": {
        "colab": {
          "base_uri": "https://localhost:8080/"
        },
        "id": "nbUoTHNHGZ8X",
        "outputId": "ebdee366-5a2d-4459-b0e5-67b89e17b4bb"
      },
      "source": [
        "improved_pipeline = Pipeline([\n",
        "              ('selector', ItemSelector(key='body')),                 \n",
        "              ('tfid', TfidfVectorizer(max_features=1000, sublinear_tf= True)),\n",
        "              ('logreg', LogisticRegression(solver='saga', max_iter=15000, C=10))\n",
        "              ])\n",
        "improved_pipeline.fit(train_data, train_labels)\n",
        "evaluation_summary(\"LR\", improved_pipeline.predict(validation_data), validation_labels) "
      ],
      "execution_count": 46,
      "outputs": [
        {
          "output_type": "stream",
          "text": [
            "Classifier 'LR' has Acc=0.756 P=0.457 R=0.648 F1=0.515\n",
            "               precision    recall  f1-score   support\n",
            "\n",
            "     negative      0.265     0.528     0.353       108\n",
            "      neutral      0.900     0.775     0.833      2275\n",
            "     positive      0.593     0.730     0.654       686\n",
            "very negative      0.200     0.500     0.286         6\n",
            "very positive      0.329     0.706     0.449        34\n",
            "\n",
            "     accuracy                          0.756      3109\n",
            "    macro avg      0.457     0.648     0.515      3109\n",
            " weighted avg      0.802     0.756     0.772      3109\n",
            "\n",
            "----------------------------\n"
          ],
          "name": "stdout"
        }
      ]
    },
    {
      "cell_type": "code",
      "metadata": {
        "colab": {
          "base_uri": "https://localhost:8080/"
        },
        "id": "U1QKNioEHvqE",
        "outputId": "bbe3e779-116d-4c4b-9bbc-18467875c34f"
      },
      "source": [
        "params = {\n",
        "   'logreg__class_weight': ('balanced', 'dict'),\n",
        "   }\n",
        "\n",
        "grid_search = GridSearchCV(improved_pipeline, param_grid=params, n_jobs=1, verbose=1, scoring='accuracy', cv=2)\n",
        "grid_search.fit(train_data, train_labels)\n",
        "\n",
        "print(\"Best score: %0.3f\" % grid_search.best_score_)\n",
        "print(\"Best parameters set:\")\n",
        "best_parameters = grid_search.best_estimator_.get_params()\n",
        "for param_name in sorted(params.keys()):\n",
        "  print(\"\\t%s: %r\" % (param_name, best_parameters[param_name]))\n",
        "\n",
        "evaluation_summary(\"LR\", grid_search.predict(validation_data), validation_labels) "
      ],
      "execution_count": 26,
      "outputs": [
        {
          "output_type": "stream",
          "text": [
            "Fitting 2 folds for each of 2 candidates, totalling 4 fits\n"
          ],
          "name": "stdout"
        },
        {
          "output_type": "stream",
          "text": [
            "[Parallel(n_jobs=1)]: Using backend SequentialBackend with 1 concurrent workers.\n",
            "/usr/local/lib/python3.7/dist-packages/sklearn/linear_model/_sag.py:330: ConvergenceWarning: The max_iter was reached which means the coef_ did not converge\n",
            "  \"the coef_ did not converge\", ConvergenceWarning)\n",
            "/usr/local/lib/python3.7/dist-packages/sklearn/linear_model/_sag.py:330: ConvergenceWarning: The max_iter was reached which means the coef_ did not converge\n",
            "  \"the coef_ did not converge\", ConvergenceWarning)\n",
            "/usr/local/lib/python3.7/dist-packages/sklearn/model_selection/_validation.py:536: FitFailedWarning: Estimator fit failed. The score on this train-test partition for these parameters will be set to nan. Details: \n",
            "ValueError: class_weight must be dict, 'balanced', or None, got: 'dict'\n",
            "\n",
            "  FitFailedWarning)\n",
            "/usr/local/lib/python3.7/dist-packages/sklearn/model_selection/_validation.py:536: FitFailedWarning: Estimator fit failed. The score on this train-test partition for these parameters will be set to nan. Details: \n",
            "ValueError: class_weight must be dict, 'balanced', or None, got: 'dict'\n",
            "\n",
            "  FitFailedWarning)\n",
            "[Parallel(n_jobs=1)]: Done   4 out of   4 | elapsed:  3.2min finished\n",
            "/usr/local/lib/python3.7/dist-packages/sklearn/linear_model/_sag.py:330: ConvergenceWarning: The max_iter was reached which means the coef_ did not converge\n",
            "  \"the coef_ did not converge\", ConvergenceWarning)\n"
          ],
          "name": "stderr"
        },
        {
          "output_type": "stream",
          "text": [
            "Best score: 0.516\n",
            "Best parameters set:\n",
            "\tlogreg__class_weight: 'balanced'\n",
            "Classifier 'LR' has Acc=0.302 P=0.378 R=0.548 F1=0.240\n",
            "               precision    recall  f1-score   support\n",
            "\n",
            "     negative      0.293     0.548     0.382       115\n",
            "      neutral      0.017     0.846     0.033        39\n",
            "     positive      0.978     0.294     0.452      2806\n",
            "very negative      0.467     0.050     0.091       139\n",
            "very positive      0.137     1.000     0.241        10\n",
            "\n",
            "     accuracy                          0.302      3109\n",
            "    macro avg      0.378     0.548     0.240      3109\n",
            " weighted avg      0.915     0.302     0.428      3109\n",
            "\n",
            "----------------------------\n"
          ],
          "name": "stdout"
        }
      ]
    },
    {
      "cell_type": "code",
      "metadata": {
        "colab": {
          "base_uri": "https://localhost:8080/"
        },
        "id": "8F4srTAHObuZ",
        "outputId": "fa79ade0-ecf1-42bf-d300-b1cff1a7ac82"
      },
      "source": [
        "\n",
        "params = {\n",
        "   'tfid__strip_accents': ('ascii', 'unicode'),\n",
        "   }\n",
        "\n",
        "grid_search = GridSearchCV(improved_pipeline, param_grid=params, n_jobs=1, verbose=1, scoring='accuracy', cv=2)\n",
        "grid_search.fit(train_data, train_labels)\n",
        "\n",
        "print(\"Best score: %0.3f\" % grid_search.best_score_)\n",
        "print(\"Best parameters set:\")\n",
        "best_parameters = grid_search.best_estimator_.get_params()\n",
        "for param_name in sorted(params.keys()):\n",
        "  print(\"\\t%s: %r\" % (param_name, best_parameters[param_name]))\n",
        "\n",
        "evaluation_summary(\"LR\", grid_search.predict(validation_data), validation_labels) "
      ],
      "execution_count": 47,
      "outputs": [
        {
          "output_type": "stream",
          "text": [
            "Fitting 2 folds for each of 2 candidates, totalling 4 fits\n"
          ],
          "name": "stdout"
        },
        {
          "output_type": "stream",
          "text": [
            "[Parallel(n_jobs=1)]: Using backend SequentialBackend with 1 concurrent workers.\n",
            "[Parallel(n_jobs=1)]: Done   4 out of   4 | elapsed:    3.3s finished\n"
          ],
          "name": "stderr"
        },
        {
          "output_type": "stream",
          "text": [
            "Best score: 0.732\n",
            "Best parameters set:\n",
            "\ttfid__strip_accents: 'unicode'\n",
            "Classifier 'LR' has Acc=0.756 P=0.457 R=0.648 F1=0.515\n",
            "               precision    recall  f1-score   support\n",
            "\n",
            "     negative      0.265     0.528     0.353       108\n",
            "      neutral      0.900     0.775     0.833      2275\n",
            "     positive      0.593     0.730     0.654       686\n",
            "very negative      0.200     0.500     0.286         6\n",
            "very positive      0.329     0.706     0.449        34\n",
            "\n",
            "     accuracy                          0.756      3109\n",
            "    macro avg      0.457     0.648     0.515      3109\n",
            " weighted avg      0.802     0.756     0.772      3109\n",
            "\n",
            "----------------------------\n"
          ],
          "name": "stdout"
        }
      ]
    },
    {
      "cell_type": "code",
      "metadata": {
        "colab": {
          "base_uri": "https://localhost:8080/"
        },
        "id": "4Y9GNfdkO8_6",
        "outputId": "8a72039d-062a-40e6-a2c2-1eff17453461"
      },
      "source": [
        "params = {\n",
        "   'tfid__analyzer': ('word', 'char'),\n",
        "   }\n",
        "\n",
        "grid_search = GridSearchCV(improved_pipeline, param_grid=params, n_jobs=1, verbose=1, scoring='accuracy', cv=2)\n",
        "grid_search.fit(train_data, train_labels)\n",
        "\n",
        "print(\"Best score: %0.3f\" % grid_search.best_score_)\n",
        "print(\"Best parameters set:\")\n",
        "best_parameters = grid_search.best_estimator_.get_params()\n",
        "for param_name in sorted(params.keys()):\n",
        "  print(\"\\t%s: %r\" % (param_name, best_parameters[param_name]))\n",
        "\n",
        "evaluation_summary(\"LR\", grid_search.predict(validation_data), validation_labels) "
      ],
      "execution_count": 48,
      "outputs": [
        {
          "output_type": "stream",
          "text": [
            "Fitting 2 folds for each of 2 candidates, totalling 4 fits\n"
          ],
          "name": "stdout"
        },
        {
          "output_type": "stream",
          "text": [
            "[Parallel(n_jobs=1)]: Using backend SequentialBackend with 1 concurrent workers.\n",
            "[Parallel(n_jobs=1)]: Done   4 out of   4 | elapsed:    8.3s finished\n"
          ],
          "name": "stderr"
        },
        {
          "output_type": "stream",
          "text": [
            "Best score: 0.731\n",
            "Best parameters set:\n",
            "\ttfid__analyzer: 'word'\n",
            "Classifier 'LR' has Acc=0.756 P=0.457 R=0.648 F1=0.515\n",
            "               precision    recall  f1-score   support\n",
            "\n",
            "     negative      0.265     0.528     0.353       108\n",
            "      neutral      0.900     0.775     0.833      2275\n",
            "     positive      0.593     0.730     0.654       686\n",
            "very negative      0.200     0.500     0.286         6\n",
            "very positive      0.329     0.706     0.449        34\n",
            "\n",
            "     accuracy                          0.756      3109\n",
            "    macro avg      0.457     0.648     0.515      3109\n",
            " weighted avg      0.802     0.756     0.772      3109\n",
            "\n",
            "----------------------------\n"
          ],
          "name": "stdout"
        }
      ]
    },
    {
      "cell_type": "code",
      "metadata": {
        "colab": {
          "base_uri": "https://localhost:8080/"
        },
        "id": "2aUfZCyBg0ks",
        "outputId": "1aadd1b7-96e0-49f2-bd88-02b77b94aba2"
      },
      "source": [
        "params = {\n",
        "   'logreg__random_state': (0,5,10,15,20,25,30),\n",
        "   }\n",
        "\n",
        "grid_search = GridSearchCV(improved_pipeline, param_grid=params, n_jobs=1, verbose=1, scoring='accuracy', cv=2)\n",
        "grid_search.fit(train_data, train_labels)\n",
        "\n",
        "print(\"Best score: %0.3f\" % grid_search.best_score_)\n",
        "print(\"Best parameters set:\")\n",
        "best_parameters = grid_search.best_estimator_.get_params()\n",
        "for param_name in sorted(params.keys()):\n",
        "  print(\"\\t%s: %r\" % (param_name, best_parameters[param_name]))\n",
        "\n",
        "evaluation_summary(\"LR\", grid_search.predict(validation_data), validation_labels) "
      ],
      "execution_count": 49,
      "outputs": [
        {
          "output_type": "stream",
          "text": [
            "Fitting 2 folds for each of 7 candidates, totalling 14 fits\n"
          ],
          "name": "stdout"
        },
        {
          "output_type": "stream",
          "text": [
            "[Parallel(n_jobs=1)]: Using backend SequentialBackend with 1 concurrent workers.\n",
            "[Parallel(n_jobs=1)]: Done  14 out of  14 | elapsed:   11.2s finished\n"
          ],
          "name": "stderr"
        },
        {
          "output_type": "stream",
          "text": [
            "Best score: 0.731\n",
            "Best parameters set:\n",
            "\tlogreg__random_state: 0\n",
            "Classifier 'LR' has Acc=0.756 P=0.457 R=0.648 F1=0.515\n",
            "               precision    recall  f1-score   support\n",
            "\n",
            "     negative      0.265     0.528     0.353       108\n",
            "      neutral      0.900     0.775     0.833      2275\n",
            "     positive      0.593     0.730     0.654       686\n",
            "very negative      0.200     0.500     0.286         6\n",
            "very positive      0.329     0.706     0.449        34\n",
            "\n",
            "     accuracy                          0.756      3109\n",
            "    macro avg      0.457     0.648     0.515      3109\n",
            " weighted avg      0.802     0.756     0.772      3109\n",
            "\n",
            "----------------------------\n"
          ],
          "name": "stdout"
        }
      ]
    },
    {
      "cell_type": "code",
      "metadata": {
        "colab": {
          "base_uri": "https://localhost:8080/"
        },
        "id": "36YUsu3tPOU5",
        "outputId": "d225c110-48f5-4a8e-e5c6-3c73be15197b"
      },
      "source": [
        "final_pipeline = Pipeline([\n",
        "              ('selector', ItemSelector(key='body')),                 \n",
        "              ('tfid', TfidfVectorizer(max_features=1000, sublinear_tf= True)),\n",
        "              ('logreg', LogisticRegression(solver='saga', max_iter=15000, C=10, random_state= 0))\n",
        "              ])\n",
        "final_pipeline.fit(train_data, train_labels)\n",
        "evaluation_summary(\"LR\", final_pipeline.predict(validation_data), validation_labels) "
      ],
      "execution_count": 52,
      "outputs": [
        {
          "output_type": "stream",
          "text": [
            "Classifier 'LR' has Acc=0.756 P=0.457 R=0.648 F1=0.515\n",
            "               precision    recall  f1-score   support\n",
            "\n",
            "     negative      0.265     0.528     0.353       108\n",
            "      neutral      0.900     0.775     0.833      2275\n",
            "     positive      0.593     0.730     0.654       686\n",
            "very negative      0.200     0.500     0.286         6\n",
            "very positive      0.329     0.706     0.449        34\n",
            "\n",
            "     accuracy                          0.756      3109\n",
            "    macro avg      0.457     0.648     0.515      3109\n",
            " weighted avg      0.802     0.756     0.772      3109\n",
            "\n",
            "----------------------------\n"
          ],
          "name": "stdout"
        }
      ]
    },
    {
      "cell_type": "code",
      "metadata": {
        "colab": {
          "base_uri": "https://localhost:8080/",
          "height": 318
        },
        "id": "bzl_zIsJPiY4",
        "outputId": "30c48988-eb22-4b20-f55e-cd8c4252c528"
      },
      "source": [
        "evaluation_summary(\"Final LR\", final_pipeline.predict(test_data), test_labels) \n",
        "final_df = pd.DataFrame.from_dict(metrics,orient = 'index', columns = ['Accuracy','Precision', 'Recall', 'F1(macro)' , 'F1(weighted)'])\n",
        "final_df.loc[['Final LR']]\n"
      ],
      "execution_count": 53,
      "outputs": [
        {
          "output_type": "stream",
          "text": [
            "Classifier 'Final LR' has Acc=0.756 P=0.460 R=0.611 F1=0.508\n",
            "               precision    recall  f1-score   support\n",
            "\n",
            "     negative      0.241     0.500     0.325       136\n",
            "      neutral      0.887     0.782     0.831      2850\n",
            "     positive      0.642     0.732     0.684       966\n",
            "very negative      0.219     0.500     0.304        14\n",
            "very positive      0.314     0.540     0.397        50\n",
            "\n",
            "     accuracy                          0.756      4016\n",
            "    macro avg      0.460     0.611     0.508      4016\n",
            " weighted avg      0.796     0.756     0.771      4016\n",
            "\n",
            "----------------------------\n"
          ],
          "name": "stdout"
        },
        {
          "output_type": "execute_result",
          "data": {
            "text/html": [
              "<div>\n",
              "<style scoped>\n",
              "    .dataframe tbody tr th:only-of-type {\n",
              "        vertical-align: middle;\n",
              "    }\n",
              "\n",
              "    .dataframe tbody tr th {\n",
              "        vertical-align: top;\n",
              "    }\n",
              "\n",
              "    .dataframe thead th {\n",
              "        text-align: right;\n",
              "    }\n",
              "</style>\n",
              "<table border=\"1\" class=\"dataframe\">\n",
              "  <thead>\n",
              "    <tr style=\"text-align: right;\">\n",
              "      <th></th>\n",
              "      <th>Accuracy</th>\n",
              "      <th>Precision</th>\n",
              "      <th>Recall</th>\n",
              "      <th>F1(macro)</th>\n",
              "      <th>F1(weighted)</th>\n",
              "    </tr>\n",
              "  </thead>\n",
              "  <tbody>\n",
              "    <tr>\n",
              "      <th>Final LR</th>\n",
              "      <td>0.756</td>\n",
              "      <td>0.460</td>\n",
              "      <td>0.611</td>\n",
              "      <td>0.508</td>\n",
              "      <td>0.771</td>\n",
              "    </tr>\n",
              "  </tbody>\n",
              "</table>\n",
              "</div>"
            ],
            "text/plain": [
              "         Accuracy Precision Recall F1(macro) F1(weighted)\n",
              "Final LR    0.756     0.460  0.611     0.508        0.771"
            ]
          },
          "metadata": {
            "tags": []
          },
          "execution_count": 53
        }
      ]
    },
    {
      "cell_type": "markdown",
      "metadata": {
        "id": "lFbzTTuf2UhG"
      },
      "source": [
        "## **Question 3**\n",
        "**In this task your goal is to add two features to (try to) improve sentiment polarity classification performance obtained\n",
        "in Q2.**\n",
        "You must implement and describe two new classifier features and add them to the tuned model from Q2. Examples include adding other properties of the posts (or threads), leveraging embedding-based features, different vectorization approaches, etc. Train the combined model and report accuracy, macro-averaged precision, recall, and F1 on the test data. Include a well-labeled confusion matrix. Discuss the result in reference to Q2 and what helped (or didn’t) and why you think so."
      ]
    },
    {
      "cell_type": "code",
      "metadata": {
        "colab": {
          "base_uri": "https://localhost:8080/"
        },
        "id": "7cgouyjdS9Br",
        "outputId": "501a5a64-cc75-4436-b528-f86b2ce25eec"
      },
      "source": [
        "train_data['subreddit'].value_counts() \n",
        "train_data['majority_type'].value_counts()\n",
        "train_data['title'].value_counts()\n",
        "train_data['author'].value_counts()"
      ],
      "execution_count": 41,
      "outputs": [
        {
          "output_type": "execute_result",
          "data": {
            "text/plain": [
              "                       1385\n",
              "AutoModerator            23\n",
              "FULKRAM                  21\n",
              "MurderedPigeon           17\n",
              "seymour1                 16\n",
              "                       ... \n",
              "tdRftw                    1\n",
              "ohjbird3                  1\n",
              "Voltron37                 1\n",
              "machetebrownsugar69       1\n",
              "tugamawar                 1\n",
              "Name: author, Length: 7291, dtype: int64"
            ]
          },
          "metadata": {
            "tags": []
          },
          "execution_count": 41
        }
      ]
    },
    {
      "cell_type": "code",
      "metadata": {
        "id": "NUvn1RIzxr8_"
      },
      "source": [
        "def selecting_features(pipe_line):\n",
        "  one_hot_train_features = pipe_line.fit_transform(train_data)\n",
        "  one_hot_validation_features = pipe_line.transform(validation_data)\n",
        "  one_hot_test_features = pipe_line.transform(test_data)\n",
        "\n",
        "  lr_model = LogisticRegression(solver='saga', max_iter=15000, C=10, random_state= 0)\n",
        "\n",
        "  combined = lr_model.fit(one_hot_train_features, train_labels)\n",
        "  evaluation_summary(\"Validation LR\" , lr_model.predict(one_hot_validation_features), validation_labels) \n",
        "  evaluation_summary(\"Test LR\" , lr_model.predict(one_hot_test_features), test_labels)\n"
      ],
      "execution_count": 55,
      "outputs": []
    },
    {
      "cell_type": "code",
      "metadata": {
        "colab": {
          "base_uri": "https://localhost:8080/"
        },
        "id": "pHa7vc1mu49A",
        "outputId": "c6d9616e-9862-4100-c28c-db8f6ec0651c"
      },
      "source": [
        "pipeline_1 = Pipeline([\n",
        "        ('union', FeatureUnion(\n",
        "          transformer_list=[\n",
        "            ('body', Pipeline([\n",
        "              ('selector', ItemSelector(key='body')),\n",
        "              ('tdif', TfidfVectorizer(max_features=1000, sublinear_tf= True, strip_accents = 'unicode')), \n",
        "              ])),\n",
        "            ('subreddit', Pipeline([\n",
        "              ('selector1', ItemSelector(key='subreddit')),\n",
        "              ('one-hot', TfidfVectorizer( binary=True)), \n",
        "              ])),\n",
        "        ])\n",
        "        )\n",
        "    ])\n",
        "selecting_features(pipeline_1)"
      ],
      "execution_count": 56,
      "outputs": [
        {
          "output_type": "stream",
          "text": [
            "Classifier 'Validation LR' has Acc=0.756 P=0.457 R=0.601 F1=0.504\n",
            "               precision    recall  f1-score   support\n",
            "\n",
            "     negative      0.288     0.549     0.378       113\n",
            "      neutral      0.895     0.779     0.833      2253\n",
            "     positive      0.602     0.728     0.659       699\n",
            "very negative      0.200     0.300     0.240        10\n",
            "very positive      0.301     0.647     0.411        34\n",
            "\n",
            "     accuracy                          0.756      3109\n",
            "    macro avg      0.457     0.601     0.504      3109\n",
            " weighted avg      0.798     0.756     0.771      3109\n",
            "\n",
            "----------------------------\n",
            "Classifier 'Test LR' has Acc=0.754 P=0.451 R=0.597 F1=0.495\n",
            "               precision    recall  f1-score   support\n",
            "\n",
            "     negative      0.241     0.489     0.323       139\n",
            "      neutral      0.886     0.781     0.830      2852\n",
            "     positive      0.636     0.731     0.680       959\n",
            "very negative      0.188     0.500     0.273        12\n",
            "very positive      0.302     0.481     0.371        54\n",
            "\n",
            "     accuracy                          0.754      4016\n",
            "    macro avg      0.451     0.597     0.495      4016\n",
            " weighted avg      0.794     0.754     0.769      4016\n",
            "\n",
            "----------------------------\n"
          ],
          "name": "stdout"
        }
      ]
    },
    {
      "cell_type": "code",
      "metadata": {
        "colab": {
          "base_uri": "https://localhost:8080/"
        },
        "id": "dwXiQ-96vlg_",
        "outputId": "bac1b807-0ffc-470d-ff6c-f763000e4fbe"
      },
      "source": [
        "pipeline_2 = Pipeline([\n",
        "        ('union', FeatureUnion(\n",
        "          transformer_list=[\n",
        "            ('body', Pipeline([\n",
        "              ('selector', ItemSelector(key='body')),\n",
        "              ('tdif', TfidfVectorizer(max_features=1000, sublinear_tf= True, strip_accents = 'unicode')), \n",
        "              ])),\n",
        "            ('majority_type', Pipeline([\n",
        "              ('selector1', ItemSelector(key='majority_type')),\n",
        "              ('one-hot', TfidfVectorizer( binary=True)), \n",
        "              ])),\n",
        "        ])\n",
        "        )\n",
        "    ])\n",
        "selecting_features(pipeline_2)"
      ],
      "execution_count": 57,
      "outputs": [
        {
          "output_type": "stream",
          "text": [
            "Classifier 'Validation LR' has Acc=0.752 P=0.450 R=0.589 F1=0.496\n",
            "               precision    recall  f1-score   support\n",
            "\n",
            "     negative      0.260     0.514     0.346       109\n",
            "      neutral      0.895     0.776     0.831      2262\n",
            "     positive      0.595     0.726     0.654       693\n",
            "very negative      0.200     0.300     0.240        10\n",
            "very positive      0.301     0.629     0.407        35\n",
            "\n",
            "     accuracy                          0.752      3109\n",
            "    macro avg      0.450     0.589     0.496      3109\n",
            " weighted avg      0.797     0.752     0.768      3109\n",
            "\n",
            "----------------------------\n",
            "Classifier 'Test LR' has Acc=0.760 P=0.470 R=0.616 F1=0.518\n",
            "               precision    recall  f1-score   support\n",
            "\n",
            "     negative      0.241     0.489     0.323       139\n",
            "      neutral      0.891     0.784     0.834      2857\n",
            "     positive      0.644     0.746     0.691       952\n",
            "very negative      0.250     0.533     0.340        15\n",
            "very positive      0.326     0.528     0.403        53\n",
            "\n",
            "     accuracy                          0.760      4016\n",
            "    macro avg      0.470     0.616     0.518      4016\n",
            " weighted avg      0.800     0.760     0.775      4016\n",
            "\n",
            "----------------------------\n"
          ],
          "name": "stdout"
        }
      ]
    },
    {
      "cell_type": "code",
      "metadata": {
        "colab": {
          "base_uri": "https://localhost:8080/"
        },
        "id": "8e5rqA9avxA_",
        "outputId": "e465ca9b-a7c0-499b-a432-ce139155a98b"
      },
      "source": [
        "pipeline_3 = Pipeline([\n",
        "        ('union', FeatureUnion(\n",
        "          transformer_list=[\n",
        "            ('body', Pipeline([\n",
        "              ('selector', ItemSelector(key='body')),\n",
        "              ('tdif', TfidfVectorizer(max_features=1000, sublinear_tf= True, strip_accents = 'unicode')), \n",
        "              ])),\n",
        "            ('author', Pipeline([\n",
        "              ('selector1', ItemSelector(key='author')),\n",
        "              ('one-hot', CountVectorizer( binary=True)), \n",
        "              ])),\n",
        "        ])\n",
        "        )\n",
        "    ])\n",
        "selecting_features(pipeline_3)\n"
      ],
      "execution_count": 58,
      "outputs": [
        {
          "output_type": "stream",
          "text": [
            "Classifier 'Validation LR' has Acc=0.739 P=0.426 R=0.648 F1=0.484\n",
            "               precision    recall  f1-score   support\n",
            "\n",
            "     negative      0.200     0.478     0.282        90\n",
            "      neutral      0.898     0.759     0.822      2319\n",
            "     positive      0.559     0.706     0.624       669\n",
            "very negative      0.200     0.500     0.286         6\n",
            "very positive      0.274     0.800     0.408        25\n",
            "\n",
            "     accuracy                          0.739      3109\n",
            "    macro avg      0.426     0.648     0.484      3109\n",
            " weighted avg      0.798     0.739     0.760      3109\n",
            "\n",
            "----------------------------\n",
            "Classifier 'Test LR' has Acc=0.746 P=0.433 R=0.639 F1=0.489\n",
            "               precision    recall  f1-score   support\n",
            "\n",
            "     negative      0.184     0.464     0.264       112\n",
            "      neutral      0.897     0.765     0.825      2948\n",
            "     positive      0.598     0.725     0.655       909\n",
            "very negative      0.219     0.583     0.318        12\n",
            "very positive      0.267     0.657     0.380        35\n",
            "\n",
            "     accuracy                          0.746      4016\n",
            "    macro avg      0.433     0.639     0.489      4016\n",
            " weighted avg      0.802     0.746     0.766      4016\n",
            "\n",
            "----------------------------\n"
          ],
          "name": "stdout"
        }
      ]
    },
    {
      "cell_type": "code",
      "metadata": {
        "colab": {
          "base_uri": "https://localhost:8080/"
        },
        "id": "09Oe9cuFwgtU",
        "outputId": "92387b01-60b4-4286-c28e-199b9cc9d364"
      },
      "source": [
        "\n",
        "pipeline_4 = Pipeline([\n",
        "        ('union', FeatureUnion(\n",
        "          transformer_list=[\n",
        "            ('body', Pipeline([\n",
        "              ('selector', ItemSelector(key='body')),\n",
        "              ('tdif', TfidfVectorizer(max_features=1000, sublinear_tf= True, strip_accents = 'unicode')), \n",
        "              ])),\n",
        "            ('title', Pipeline([\n",
        "              ('selector1', ItemSelector(key='title')),\n",
        "              ('one-hot', CountVectorizer( binary=True)), \n",
        "              ])),\n",
        "        ])\n",
        "        )\n",
        "    ])\n",
        "selecting_features(pipeline_4)\n"
      ],
      "execution_count": 59,
      "outputs": [
        {
          "output_type": "stream",
          "text": [
            "Classifier 'Validation LR' has Acc=0.711 P=0.365 R=0.496 F1=0.399\n",
            "               precision    recall  f1-score   support\n",
            "\n",
            "     negative      0.195     0.400     0.263       105\n",
            "      neutral      0.869     0.744     0.802      2292\n",
            "     positive      0.529     0.657     0.586       680\n",
            "very negative      0.000     0.000     0.000         7\n",
            "very positive      0.233     0.680     0.347        25\n",
            "\n",
            "     accuracy                          0.711      3109\n",
            "    macro avg      0.365     0.496     0.399      3109\n",
            " weighted avg      0.765     0.711     0.731      3109\n",
            "\n",
            "----------------------------\n",
            "Classifier 'Test LR' has Acc=0.714 P=0.397 R=0.553 F1=0.439\n",
            "               precision    recall  f1-score   support\n",
            "\n",
            "     negative      0.191     0.314     0.238       172\n",
            "      neutral      0.860     0.750     0.801      2881\n",
            "     positive      0.570     0.684     0.622       918\n",
            "very negative      0.156     0.500     0.238        10\n",
            "very positive      0.209     0.514     0.298        35\n",
            "\n",
            "     accuracy                          0.714      4016\n",
            "    macro avg      0.397     0.553     0.439      4016\n",
            " weighted avg      0.758     0.714     0.730      4016\n",
            "\n",
            "----------------------------\n"
          ],
          "name": "stdout"
        }
      ]
    },
    {
      "cell_type": "code",
      "metadata": {
        "id": "AUXN2e8n4mbb"
      },
      "source": [
        "combining_pipeline = Pipeline([\n",
        "        ('union', FeatureUnion(\n",
        "          transformer_list=[\n",
        "            ('body', Pipeline([\n",
        "              ('selector', ItemSelector(key='body')),\n",
        "              ('tdif', TfidfVectorizer(max_features=1000, sublinear_tf= True, strip_accents = 'unicode')), \n",
        "              ])),\n",
        "            ('subreddit', Pipeline([\n",
        "              ('selector1', ItemSelector(key='subreddit')),\n",
        "              ('one-hot', TfidfVectorizer( sublinear_tf= True)), \n",
        "              ])),\n",
        "            ('majority_type', Pipeline([\n",
        "              ('selector2', ItemSelector(key='majority_type')),\n",
        "              ('one-hot2', TfidfVectorizer( sublinear_tf= True)), \n",
        "              ])),\n",
        "        ])\n",
        "        )\n",
        "    ])\n",
        "\n"
      ],
      "execution_count": 60,
      "outputs": []
    },
    {
      "cell_type": "code",
      "metadata": {
        "id": "qKoHw_WV6yyg"
      },
      "source": [
        "  one_hot_train_features = combining_pipeline.fit_transform(train_data)\n",
        "  one_hot_validation_features = combining_pipeline.transform(validation_data)\n",
        "  one_hot_test_features = combining_pipeline.transform(test_data)\n",
        "\n",
        "  lr_model = LogisticRegression(solver='saga', max_iter=15000, C=10, random_state= 0)\n",
        "\n",
        "  combined = lr_model.fit(one_hot_train_features, train_labels)\n",
        "  "
      ],
      "execution_count": 61,
      "outputs": []
    },
    {
      "cell_type": "code",
      "metadata": {
        "colab": {
          "base_uri": "https://localhost:8080/"
        },
        "id": "A5SJd8RB7Lb3",
        "outputId": "d7ac7e77-4cb6-4225-81ef-7c5742b758b7"
      },
      "source": [
        "evaluation_summary(\"LR\" , lr_model.predict(one_hot_validation_features), validation_labels) \n"
      ],
      "execution_count": 62,
      "outputs": [
        {
          "output_type": "stream",
          "text": [
            "Classifier 'LR' has Acc=0.755 P=0.449 R=0.595 F1=0.496\n",
            "               precision    recall  f1-score   support\n",
            "\n",
            "     negative      0.260     0.528     0.349       106\n",
            "      neutral      0.898     0.776     0.833      2269\n",
            "     positive      0.600     0.734     0.660       691\n",
            "very negative      0.200     0.300     0.240        10\n",
            "very positive      0.288     0.636     0.396        33\n",
            "\n",
            "     accuracy                          0.755      3109\n",
            "    macro avg      0.449     0.595     0.496      3109\n",
            " weighted avg      0.801     0.755     0.771      3109\n",
            "\n",
            "----------------------------\n"
          ],
          "name": "stdout"
        }
      ]
    },
    {
      "cell_type": "code",
      "metadata": {
        "colab": {
          "base_uri": "https://localhost:8080/"
        },
        "id": "-WfE5MC-7Z29",
        "outputId": "c69f3d4d-c3e6-4c91-e496-f23cdf98ba6a"
      },
      "source": [
        "predictions = lr_model.predict(one_hot_test_features)\n",
        "evaluation_summary(\"LR\" , predictions, test_labels) \n",
        "confusion_matrix(test_labels, predictions)"
      ],
      "execution_count": 63,
      "outputs": [
        {
          "output_type": "stream",
          "text": [
            "Classifier 'LR' has Acc=0.754 P=0.466 R=0.608 F1=0.513\n",
            "               precision    recall  f1-score   support\n",
            "\n",
            "     negative      0.230     0.468     0.309       139\n",
            "      neutral      0.884     0.780     0.829      2847\n",
            "     positive      0.639     0.732     0.682       962\n",
            "very negative      0.250     0.533     0.340        15\n",
            "very positive      0.326     0.528     0.403        53\n",
            "\n",
            "     accuracy                          0.754      4016\n",
            "    macro avg      0.466     0.608     0.513      4016\n",
            " weighted avg      0.793     0.754     0.768      4016\n",
            "\n",
            "----------------------------\n"
          ],
          "name": "stdout"
        },
        {
          "output_type": "execute_result",
          "data": {
            "text/plain": [
              "array([[  65,  203,    9,    4,    1],\n",
              "       [  64, 2222,  215,    3,   10],\n",
              "       [   5,  379,  704,    0,   14],\n",
              "       [   5,   19,    0,    8,    0],\n",
              "       [   0,   24,   34,    0,   28]])"
            ]
          },
          "metadata": {
            "tags": []
          },
          "execution_count": 63
        }
      ]
    },
    {
      "cell_type": "code",
      "metadata": {
        "colab": {
          "base_uri": "https://localhost:8080/",
          "height": 364
        },
        "id": "HeLK5kUnCNw6",
        "outputId": "b2e620c7-3c9d-41c0-f61f-f8de7b815e34"
      },
      "source": [
        "from sklearn.metrics import plot_confusion_matrix\n",
        "labels_arr = np.array(('very positive','positive','neutral','negative','very negative'))\n",
        "#print('\\nConfusion matrix:\\n',confusion_matrix(test_labels, predictions, labels= labels_arr))\n",
        "\n",
        "import seaborn as sn\n",
        "\n",
        "\n",
        "array = confusion_matrix(test_labels, predictions, labels =labels_arr, normalize='true')\n",
        "\n",
        "df_cm = pd.DataFrame(array, labels_arr, labels_arr)\n",
        "# plt.figure(figsize=(10,7))\n",
        "sn.set(font_scale=1.4) # for label size\n",
        "sn.heatmap(df_cm, annot=True, annot_kws={\"size\": 16}) # font size\n",
        "\n",
        "plt.show()\n"
      ],
      "execution_count": 77,
      "outputs": [
        {
          "output_type": "display_data",
          "data": {
            "image/png": "[encoded data removed]",
            "text/plain": [
              "<Figure size 432x288 with 2 Axes>"
            ]
          },
          "metadata": {
            "tags": []
          }
        }
      ]
    },
    {
      "cell_type": "code",
      "metadata": {
        "id": "Gea4VLWm132N"
      },
      "source": [
        "normalize=normalize"
      ],
      "execution_count": null,
      "outputs": []
    },
    {
      "cell_type": "code",
      "metadata": {
        "id": "YpAcPYOM_akP"
      },
      "source": [
        "# train_data['sentiment.subjectivity']"
      ],
      "execution_count": null,
      "outputs": []
    },
    {
      "cell_type": "code",
      "metadata": {
        "id": "JrnZueZ81lgD"
      },
      "source": [
        "# numeric_features = train_data['sentiment.subjectivity']\n",
        "# numeric_transformer = Pipeline(steps=[\n",
        "#     ('imputer', Imputer(strategy='constant')),\n",
        "#     ('scaler', StandardScaler())])\n",
        "\n",
        "# text_features = train_data['body']\n",
        "# text_transformer = TfidfVectorizer(max_features=1000, sublinear_tf= True, strip_accents = 'unicode')\n",
        "\n",
        "# preprocessor = ColumnTransformer(\n",
        "#     transformers=[\n",
        "#         ('num', numeric_transformer, numeric_features),\n",
        "#         ('tfidf_1', text_transformer, 'body'),\n",
        "#         # ('tfidf_2', text_transformer, ['subreddit']),\n",
        "#         # ('tfidf_3', text_transformer, ['majority_type'])],\n",
        "#         ],remainder='drop')\n"
      ],
      "execution_count": null,
      "outputs": []
    },
    {
      "cell_type": "code",
      "metadata": {
        "id": "r7sPUgS8zTPw"
      },
      "source": [
        "# clf = Pipeline(steps=[('preprocessor', preprocessor),\n",
        "#                         ('classifier', LogisticRegression(solver='saga', max_iter=15000, C=10, random_state= 0))])"
      ],
      "execution_count": 159,
      "outputs": []
    },
    {
      "cell_type": "code",
      "metadata": {
        "id": "fkeqU2l3Dmvm"
      },
      "source": [
        "# clf.fit(train_data, train_labels)"
      ],
      "execution_count": null,
      "outputs": []
    },
    {
      "cell_type": "code",
      "metadata": {
        "id": "nUtQWDThDx-i"
      },
      "source": [
        ""
      ],
      "execution_count": null,
      "outputs": []
    }
  ]
}